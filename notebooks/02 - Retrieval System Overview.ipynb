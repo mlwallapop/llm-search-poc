{
 "cells": [
  {
   "cell_type": "code",
   "execution_count": 1,
   "metadata": {},
   "outputs": [
    {
     "data": {
      "text/plain": [
       "False"
      ]
     },
     "execution_count": 1,
     "metadata": {},
     "output_type": "execute_result"
    }
   ],
   "source": [
    "import pprint\n",
    "from dotenv import load_dotenv\n",
    "load_dotenv()"
   ]
  },
  {
   "cell_type": "markdown",
   "metadata": {},
   "source": [
    "## Retrieval Systems Overview\n",
    "\n",
    "Retrieval systems help AI applications find relevant info from large datasets, supporting:\n",
    "\n",
    "- **Unstructured text** (e.g., documents) via vector stores or search indexes  \n",
    "- **Structured data** in relational or graph databases\n",
    "\n",
    "Modern apps aim to access all data types through **natural language**, with models translating queries into formats the system can understand — enabling intuitive and flexible data interaction.\n",
    "\n"
   ]
  },
  {
   "cell_type": "markdown",
   "metadata": {},
   "source": [
    "### Key concepts\n",
    "\n",
    " - **Query analysis**: A process where models transform or construct search queries to optimize retrieval.\n",
    "\n",
    " - **Information retrieval**: Search queries are used to fetch information from various retrieval systems.\n",
    "\n",
    "![Query transform](assets/retrieval_concept-2bcff1b2518f194b34eaf472ac748ffa.png \"Query transform\")\n",
    "\n",
    "### Query Analysis\n",
    "\n",
    "Query analysis bridges user input and optimized search queries in retrieval systems.\n",
    "\n",
    "#### Key Functions:\n",
    "- **Query Re-writing**: Improve search results by rephrasing or expanding user input.\n",
    "- **Query Construction**: Convert natural language into structured formats (e.g., SQL).\n",
    "- **Model Use**: Leverage LLMs to transform or optimize queries.\n",
    "\n",
    "#### Benefits:\n",
    "- **Clarify** ambiguous input  \n",
    "- **Understand semantics** and user intent  \n",
    "- **Expand** queries with related terms  \n",
    "- **Handle complex** multi-part questions\n",
    "\n",
    "#### Techniques:\n",
    "\n",
    "| **Name**        | **When to Use**                                           | **Description** |\n",
    "|-----------------|-----------------------------------------------------------|-----------------|\n",
    "| `Multi-query`   | Ensure high recall                                        | Generate multiple phrasings and merge results |\n",
    "| `Decomposition` | Break down complex questions                              | Create and solve sub-questions sequentially or in parallel |\n",
    "| `Step-back`     | Need for higher-level understanding                       | Ask broader grounding questions first |\n",
    "| `HyDE`          | When raw queries retrieve poorly                          | Generate hypothetical docs to improve retrieval accuracy |\n"
   ]
  },
  {
   "cell_type": "code",
   "execution_count": 7,
   "metadata": {},
   "outputs": [
    {
     "name": "stdout",
     "output_type": "stream",
     "text": [
      "SystemMessage(content='You are a helpful assistant that generates multiple sub-questions related to an input question. \\n\\nThe goal is to break down the input into a set of sub-problems / sub-questions that can be answers in isolation. \\n', additional_kwargs={}, response_metadata={})\n",
      "HumanMessage(content='What are the main components of an LLM-powered autonomous agent system?', additional_kwargs={}, response_metadata={})\n"
     ]
    }
   ],
   "source": [
    "from typing import List\n",
    "\n",
    "from pydantic import BaseModel, Field\n",
    "from langchain_openai import ChatOpenAI\n",
    "from langchain_core.messages import SystemMessage, HumanMessage\n",
    "\n",
    "# Define a pydantic model to enforce the output structure\n",
    "class Questions(BaseModel):\n",
    "    questions: List[str] = Field(\n",
    "        description=\"A list of sub-questions related to the input query.\"\n",
    "    )\n",
    "\n",
    "# Create an instance of the model and enforce the output structure\n",
    "model = ChatOpenAI(model=\"gpt-4o\", temperature=0) \n",
    "structured_model = model.with_structured_output(Questions)\n",
    "\n",
    "# Define the system prompt\n",
    "system = \"\"\"You are a helpful assistant that generates multiple sub-questions related to an input question. \\n\n",
    "The goal is to break down the input into a set of sub-problems / sub-questions that can be answers in isolation. \\n\"\"\"\n",
    "\n",
    "# Pass the question to the model\n",
    "question = \"\"\"What are the main components of an LLM-powered autonomous agent system?\"\"\"\n",
    "\n",
    "system_message = SystemMessage(content=system)\n",
    "human_message = HumanMessage(content=question)\n",
    "\n",
    "messages = [system_message] + [human_message]\n",
    "\n",
    "[pprint.pp(m) for m in messages]\n",
    "\n",
    "questions = structured_model.invoke(messages)"
   ]
  },
  {
   "cell_type": "code",
   "execution_count": 5,
   "metadata": {},
   "outputs": [
    {
     "name": "stdout",
     "output_type": "stream",
     "text": [
      "('questions',\n",
      " ['What is an LLM and how does it function within an autonomous agent system?',\n",
      "  'What are the key components of an autonomous agent system?',\n",
      "  'How does an LLM integrate with other components of an autonomous agent '\n",
      "  'system?',\n",
      "  'What role does natural language processing play in an LLM-powered '\n",
      "  'autonomous agent system?',\n",
      "  'How do LLMs handle decision-making processes in autonomous agents?',\n",
      "  'What are the input and output mechanisms for an LLM in an autonomous agent '\n",
      "  'system?',\n",
      "  'How is data managed and processed in an LLM-powered autonomous agent '\n",
      "  'system?',\n",
      "  'What are the challenges in designing an LLM-powered autonomous agent '\n",
      "  'system?',\n",
      "  'How do LLMs learn and adapt within an autonomous agent system?',\n",
      "  'What are the ethical considerations when deploying LLM-powered autonomous '\n",
      "  'agents?'])\n"
     ]
    },
    {
     "data": {
      "text/plain": [
       "[None]"
      ]
     },
     "execution_count": 5,
     "metadata": {},
     "output_type": "execute_result"
    }
   ],
   "source": [
    "[pprint.pp(q) for q in questions]"
   ]
  },
  {
   "cell_type": "markdown",
   "metadata": {},
   "source": [
    "### Query Construction\n",
    "\n",
    "Query construction translates natural language into query languages or filters, enabling effective interaction with structured and semi-structured data systems.\n",
    "\n",
    "#### Structured Data Examples:\n",
    "- **Text-to-SQL**: Convert natural language to SQL for relational databases  \n",
    "- **Text-to-Cypher**: Convert natural language to Cypher for graph databases  \n",
    "\n",
    "#### Semi-structured Data Examples:\n",
    "- **Text to Metadata Filters**: Convert natural language into metadata filters for vector stores  \n",
    "\n",
    "These methods use models to bridge user intent with system-specific query formats.\n",
    "\n",
    "#### Techniques:\n",
    "\n",
    "| **Name**          | **When to Use**                                                   | **Description** |\n",
    "|-------------------|-------------------------------------------------------------------|-----------------|\n",
    "| `Self Query`      | When answers rely on document metadata                            | Transforms input into (1) semantic query + (2) metadata filter |\n",
    "| `Text-to-SQL`     | When querying relational databases                                | Converts user input into SQL queries |\n",
    "| `Text-to-Cypher`  | When querying graph databases                                     | Converts user input into Cypher queries |\n"
   ]
  },
  {
   "cell_type": "markdown",
   "metadata": {},
   "source": [
    "### Self-Querying Retriever\n",
    "\n",
    "A self-querying retriever uses an LLM to turn natural language into a structured query. It applies this to a vector store by:\n",
    "\n",
    "- Performing **semantic search**\n",
    "- Extracting and applying **metadata filters**\n",
    "\n",
    "This allows for more accurate and targeted retrieval based on both content and metadata.\n",
    "\n",
    "![Self Query Retriever](assets/self_querying-26ac0fc8692e85bc3cd9b8640509404f.jpg \"Self Query Retriever\")\n",
    "\n",
    "We use `Chroma` as in-memory vector db, let's initialize it and index some movie summaries."
   ]
  },
  {
   "cell_type": "code",
   "execution_count": 8,
   "metadata": {},
   "outputs": [],
   "source": [
    "from langchain_chroma import Chroma\n",
    "from langchain_core.documents import Document\n",
    "from langchain_openai import OpenAIEmbeddings\n",
    "\n",
    "docs = [\n",
    "    Document(\n",
    "        page_content=\"A bunch of scientists bring back dinosaurs and mayhem breaks loose\",\n",
    "        metadata={\"year\": 1993, \"rating\": 7.7, \"genre\": \"science fiction\"},\n",
    "    ),\n",
    "    Document(\n",
    "        page_content=\"Leo DiCaprio gets lost in a dream within a dream within a dream within a ...\",\n",
    "        metadata={\"year\": 2010, \"director\": \"Christopher Nolan\", \"rating\": 8.2},\n",
    "    ),\n",
    "    Document(\n",
    "        page_content=\"A psychologist / detective gets lost in a series of dreams within dreams within dreams and Inception reused the idea\",\n",
    "        metadata={\"year\": 2006, \"director\": \"Satoshi Kon\", \"rating\": 8.6},\n",
    "    ),\n",
    "    Document(\n",
    "        page_content=\"A bunch of normal-sized women are supremely wholesome and some men pine after them\",\n",
    "        metadata={\"year\": 2019, \"director\": \"Greta Gerwig\", \"rating\": 8.3},\n",
    "    ),\n",
    "    Document(\n",
    "        page_content=\"Toys come alive and have a blast doing so\",\n",
    "        metadata={\"year\": 1995, \"genre\": \"animated\"},\n",
    "    ),\n",
    "    Document(\n",
    "        page_content=\"Three men walk into the Zone, three men walk out of the Zone\",\n",
    "        metadata={\n",
    "            \"year\": 1979,\n",
    "            \"director\": \"Andrei Tarkovsky\",\n",
    "            \"genre\": \"thriller\",\n",
    "            \"rating\": 9.9,\n",
    "        },\n",
    "    ),\n",
    "]\n",
    "vectorstore = Chroma.from_documents(docs, OpenAIEmbeddings())"
   ]
  },
  {
   "cell_type": "markdown",
   "metadata": {},
   "source": [
    "### Creating our self-querying retriever\n",
    "Now we can instantiate our retriever. \n",
    "To do this we'll need to provide some information upfront about the metadata fields that our documents support and a short description of the document contents."
   ]
  },
  {
   "cell_type": "markdown",
   "metadata": {},
   "source": []
  },
  {
   "cell_type": "code",
   "execution_count": 4,
   "metadata": {},
   "outputs": [],
   "source": [
    "from langchain.chains.query_constructor.schema import AttributeInfo\n",
    "from langchain.retrievers.self_query.base import SelfQueryRetriever\n",
    "from langchain_openai import ChatOpenAI\n",
    "\n",
    "metadata_field_info = [\n",
    "    AttributeInfo(\n",
    "        name=\"genre\",\n",
    "        description=\"The genre of the movie. One of ['science fiction', 'comedy', 'drama', 'thriller', 'romance', 'action', 'animated']\",\n",
    "        type=\"string\",\n",
    "    ),\n",
    "    AttributeInfo(\n",
    "        name=\"year\",\n",
    "        description=\"The year the movie was released\",\n",
    "        type=\"integer\",\n",
    "    ),\n",
    "    AttributeInfo(\n",
    "        name=\"director\",\n",
    "        description=\"The name of the movie director\",\n",
    "        type=\"string\",\n",
    "    ),\n",
    "    AttributeInfo(\n",
    "        name=\"rating\", description=\"A 1-10 rating for the movie\", type=\"float\"\n",
    "    ),\n",
    "]\n",
    "document_content_description = \"Brief summary of a movie\"\n",
    "llm = ChatOpenAI(temperature=0)\n",
    "retriever = SelfQueryRetriever.from_llm(\n",
    "    llm=llm,\n",
    "    vectorstore=vectorstore,\n",
    "    document_contents=document_content_description,\n",
    "    metadata_field_info=metadata_field_info,\n",
    "    verbose= True\n",
    ")"
   ]
  },
  {
   "cell_type": "code",
   "execution_count": 9,
   "metadata": {},
   "outputs": [
    {
     "name": "stdout",
     "output_type": "stream",
     "text": [
      "Document(id='c0ae2f09-ed3e-4764-a271-fd463f10ba07', metadata={'director': 'Andrei Tarkovsky', 'genre': 'thriller', 'rating': 9.9, 'year': 1979}, page_content='Three men walk into the Zone, three men walk out of the Zone')\n",
      "Document(id='892a6f65-6331-43d8-87bc-581ad5da657a', metadata={'director': 'Satoshi Kon', 'rating': 8.6, 'year': 2006}, page_content='A psychologist / detective gets lost in a series of dreams within dreams within dreams and Inception reused the idea')\n"
     ]
    },
    {
     "data": {
      "text/plain": [
       "[None, None]"
      ]
     },
     "execution_count": 9,
     "metadata": {},
     "output_type": "execute_result"
    }
   ],
   "source": [
    "# This example only specifies a filter\n",
    "movies = retriever.invoke(\"I want to watch a movie rated higher than 8.5\")\n",
    "[pprint.pp(m) for m in movies]"
   ]
  },
  {
   "cell_type": "code",
   "execution_count": 10,
   "metadata": {},
   "outputs": [
    {
     "name": "stdout",
     "output_type": "stream",
     "text": [
      "Document(id='4605be1f-e598-4841-b9c8-41843a63ef73', metadata={'director': 'Greta Gerwig', 'rating': 8.3, 'year': 2019}, page_content='A bunch of normal-sized women are supremely wholesome and some men pine after them')\n"
     ]
    },
    {
     "data": {
      "text/plain": [
       "[None]"
      ]
     },
     "execution_count": 10,
     "metadata": {},
     "output_type": "execute_result"
    }
   ],
   "source": [
    "# This example specifies a query and a filter\n",
    "movies = retriever.invoke(\"Has Greta Gerwig directed any movies about women\")\n",
    "[pprint.pp(m) for m in movies]"
   ]
  },
  {
   "cell_type": "code",
   "execution_count": 16,
   "metadata": {},
   "outputs": [
    {
     "name": "stdout",
     "output_type": "stream",
     "text": [
      "Document(id='892a6f65-6331-43d8-87bc-581ad5da657a', metadata={'director': 'Satoshi Kon', 'rating': 8.6, 'year': 2006}, page_content='A psychologist / detective gets lost in a series of dreams within dreams within dreams and Inception reused the idea')\n",
      "Document(id='c0ae2f09-ed3e-4764-a271-fd463f10ba07', metadata={'director': 'Andrei Tarkovsky', 'genre': 'thriller', 'rating': 9.9, 'year': 1979}, page_content='Three men walk into the Zone, three men walk out of the Zone')\n"
     ]
    },
    {
     "data": {
      "text/plain": [
       "[None, None]"
      ]
     },
     "execution_count": 16,
     "metadata": {},
     "output_type": "execute_result"
    }
   ],
   "source": [
    "# This example specifies a composite filter\n",
    "movies = retriever.invoke(\"What's a highly rated (above 8,5) science fiction film?\")\n",
    "[pprint.pp(m) for m in movies]"
   ]
  },
  {
   "cell_type": "code",
   "execution_count": 17,
   "metadata": {},
   "outputs": [
    {
     "name": "stdout",
     "output_type": "stream",
     "text": [
      "Document(id='c86d9954-9afa-4d93-870d-0074e6b1f251', metadata={'genre': 'animated', 'year': 1995}, page_content='Toys come alive and have a blast doing so')\n"
     ]
    },
    {
     "data": {
      "text/plain": [
       "[None]"
      ]
     },
     "execution_count": 17,
     "metadata": {},
     "output_type": "execute_result"
    }
   ],
   "source": [
    "# This example specifies a query and composite filter\n",
    "movies = retriever.invoke(\n",
    "    \"What's a movie after 1990 but before 2005 that's all about toys, and preferably is animated\"\n",
    ")\n",
    "[pprint.pp(m) for m in movies]"
   ]
  },
  {
   "cell_type": "markdown",
   "metadata": {},
   "source": [
    "### Filter k\n",
    "We can also use the self query retriever to specify k: the number of documents to fetch.\n",
    "\n",
    "We can do this by passing `enable_limit=True` to the constructor."
   ]
  },
  {
   "cell_type": "code",
   "execution_count": 18,
   "metadata": {},
   "outputs": [
    {
     "name": "stdout",
     "output_type": "stream",
     "text": [
      "Document(id='d1fc855d-165a-4a35-b3ce-5f2bce40c7a3', metadata={'genre': 'science fiction', 'rating': 7.7, 'year': 1993}, page_content='A bunch of scientists bring back dinosaurs and mayhem breaks loose')\n",
      "Document(id='c86d9954-9afa-4d93-870d-0074e6b1f251', metadata={'genre': 'animated', 'year': 1995}, page_content='Toys come alive and have a blast doing so')\n"
     ]
    },
    {
     "data": {
      "text/plain": [
       "[None, None]"
      ]
     },
     "execution_count": 18,
     "metadata": {},
     "output_type": "execute_result"
    }
   ],
   "source": [
    "retriever = SelfQueryRetriever.from_llm(\n",
    "    llm,\n",
    "    vectorstore,\n",
    "    document_content_description,\n",
    "    metadata_field_info,\n",
    "    enable_limit=True,\n",
    ")\n",
    "\n",
    "# This example only specifies a relevant query\n",
    "[pprint.pp(m) for m in retriever.invoke(\"What are two movies about dinosaurs\")]\n"
   ]
  },
  {
   "cell_type": "markdown",
   "metadata": {},
   "source": [
    "### What's Happening Under the Hood?  \n",
    "#### Constructing from Scratch with LCEL\n",
    "\n",
    "To better understand the internals—and gain more custom control—we can rebuild the retriever from scratch.\n",
    "\n",
    "1. **Create a Query-Construction Chain**  \n",
    "   This chain takes a user query and generates a `StructuredQuery` object, capturing any user-specified filters.\n",
    "\n",
    "2. **Use Helper Functions**  \n",
    "   LangChain provides helper functions for:\n",
    "   - **Creating the prompt**\n",
    "   - **Parsing the output**\n",
    "\n",
    "   These include various tunable parameters, which we'll skip here for simplicity.\n"
   ]
  },
  {
   "cell_type": "code",
   "execution_count": 19,
   "metadata": {},
   "outputs": [],
   "source": [
    "from langchain.chains.query_constructor.base import (\n",
    "    StructuredQueryOutputParser,\n",
    "    get_query_constructor_prompt,\n",
    ")\n",
    "\n",
    "prompt = get_query_constructor_prompt(\n",
    "    document_content_description,\n",
    "    metadata_field_info,\n",
    ")\n",
    "output_parser = StructuredQueryOutputParser.from_components()\n",
    "query_constructor = prompt | llm | output_parser"
   ]
  },
  {
   "cell_type": "markdown",
   "metadata": {},
   "source": []
  },
  {
   "cell_type": "code",
   "execution_count": 20,
   "metadata": {},
   "outputs": [
    {
     "name": "stdout",
     "output_type": "stream",
     "text": [
      "Your goal is to structure the user's query to match the request schema provided below.\n",
      "\n",
      "<< Structured Request Schema >>\n",
      "When responding use a markdown code snippet with a JSON object formatted in the following schema:\n",
      "\n",
      "```json\n",
      "{\n",
      "    \"query\": string \\ text string to compare to document contents\n",
      "    \"filter\": string \\ logical condition statement for filtering documents\n",
      "}\n",
      "```\n",
      "\n",
      "The query string should contain only text that is expected to match the contents of documents. Any conditions in the filter should not be mentioned in the query as well.\n",
      "\n",
      "A logical condition statement is composed of one or more comparison and logical operation statements.\n",
      "\n",
      "A comparison statement takes the form: `comp(attr, val)`:\n",
      "- `comp` (eq | ne | gt | gte | lt | lte | contain | like | in | nin): comparator\n",
      "- `attr` (string):  name of attribute to apply the comparison to\n",
      "- `val` (string): is the comparison value\n",
      "\n",
      "A logical operation statement takes the form `op(statement1, statement2, ...)`:\n",
      "- `op` (and | or | not): logical operator\n",
      "- `statement1`, `statement2`, ... (comparison statements or logical operation statements): one or more statements to apply the operation to\n",
      "\n",
      "Make sure that you only use the comparators and logical operators listed above and no others.\n",
      "Make sure that filters only refer to attributes that exist in the data source.\n",
      "Make sure that filters only use the attributed names with its function names if there are functions applied on them.\n",
      "Make sure that filters only use format `YYYY-MM-DD` when handling date data typed values.\n",
      "Make sure that filters take into account the descriptions of attributes and only make comparisons that are feasible given the type of data being stored.\n",
      "Make sure that filters are only used as needed. If there are no filters that should be applied return \"NO_FILTER\" for the filter value.\n",
      "\n",
      "<< Example 1. >>\n",
      "Data Source:\n",
      "```json\n",
      "{\n",
      "    \"content\": \"Lyrics of a song\",\n",
      "    \"attributes\": {\n",
      "        \"artist\": {\n",
      "            \"type\": \"string\",\n",
      "            \"description\": \"Name of the song artist\"\n",
      "        },\n",
      "        \"length\": {\n",
      "            \"type\": \"integer\",\n",
      "            \"description\": \"Length of the song in seconds\"\n",
      "        },\n",
      "        \"genre\": {\n",
      "            \"type\": \"string\",\n",
      "            \"description\": \"The song genre, one of \"pop\", \"rock\" or \"rap\"\"\n",
      "        }\n",
      "    }\n",
      "}\n",
      "```\n",
      "\n",
      "User Query:\n",
      "What are songs by Taylor Swift or Katy Perry about teenage romance under 3 minutes long in the dance pop genre\n",
      "\n",
      "Structured Request:\n",
      "```json\n",
      "{\n",
      "    \"query\": \"teenager love\",\n",
      "    \"filter\": \"and(or(eq(\\\"artist\\\", \\\"Taylor Swift\\\"), eq(\\\"artist\\\", \\\"Katy Perry\\\")), lt(\\\"length\\\", 180), eq(\\\"genre\\\", \\\"pop\\\"))\"\n",
      "}\n",
      "```\n",
      "\n",
      "\n",
      "<< Example 2. >>\n",
      "Data Source:\n",
      "```json\n",
      "{\n",
      "    \"content\": \"Lyrics of a song\",\n",
      "    \"attributes\": {\n",
      "        \"artist\": {\n",
      "            \"type\": \"string\",\n",
      "            \"description\": \"Name of the song artist\"\n",
      "        },\n",
      "        \"length\": {\n",
      "            \"type\": \"integer\",\n",
      "            \"description\": \"Length of the song in seconds\"\n",
      "        },\n",
      "        \"genre\": {\n",
      "            \"type\": \"string\",\n",
      "            \"description\": \"The song genre, one of \"pop\", \"rock\" or \"rap\"\"\n",
      "        }\n",
      "    }\n",
      "}\n",
      "```\n",
      "\n",
      "User Query:\n",
      "What are songs that were not published on Spotify\n",
      "\n",
      "Structured Request:\n",
      "```json\n",
      "{\n",
      "    \"query\": \"\",\n",
      "    \"filter\": \"NO_FILTER\"\n",
      "}\n",
      "```\n",
      "\n",
      "\n",
      "<< Example 3. >>\n",
      "Data Source:\n",
      "```json\n",
      "{\n",
      "    \"content\": \"Brief summary of a movie\",\n",
      "    \"attributes\": {\n",
      "    \"genre\": {\n",
      "        \"description\": \"The genre of the movie. One of ['science fiction', 'comedy', 'drama', 'thriller', 'romance', 'action', 'animated']\",\n",
      "        \"type\": \"string\"\n",
      "    },\n",
      "    \"year\": {\n",
      "        \"description\": \"The year the movie was released\",\n",
      "        \"type\": \"integer\"\n",
      "    },\n",
      "    \"director\": {\n",
      "        \"description\": \"The name of the movie director\",\n",
      "        \"type\": \"string\"\n",
      "    },\n",
      "    \"rating\": {\n",
      "        \"description\": \"A 1-10 rating for the movie\",\n",
      "        \"type\": \"float\"\n",
      "    }\n",
      "}\n",
      "}\n",
      "```\n",
      "\n",
      "User Query:\n",
      "dummy question\n",
      "\n",
      "Structured Request:\n",
      "\n"
     ]
    }
   ],
   "source": [
    "print(prompt.format(query=\"dummy question\"))"
   ]
  },
  {
   "cell_type": "markdown",
   "metadata": {},
   "source": [
    "And what our full chain produces:"
   ]
  },
  {
   "cell_type": "code",
   "execution_count": 21,
   "metadata": {},
   "outputs": [
    {
     "data": {
      "text/plain": [
       "StructuredQuery(query='taxi drivers', filter=Operation(operator=<Operator.AND: 'and'>, arguments=[Comparison(comparator=<Comparator.EQ: 'eq'>, attribute='genre', value='science fiction'), Operation(operator=<Operator.AND: 'and'>, arguments=[Comparison(comparator=<Comparator.GTE: 'gte'>, attribute='year', value=1990), Comparison(comparator=<Comparator.LT: 'lt'>, attribute='year', value=2000)]), Comparison(comparator=<Comparator.EQ: 'eq'>, attribute='director', value='Luc Besson')]), limit=None)"
      ]
     },
     "execution_count": 21,
     "metadata": {},
     "output_type": "execute_result"
    }
   ],
   "source": [
    "query_constructor.invoke(\n",
    "    {\n",
    "        \"query\": \"What are some sci-fi movies from the 90's directed by Luc Besson about taxi drivers\"\n",
    "    }\n",
    ")"
   ]
  },
  {
   "cell_type": "markdown",
   "metadata": {},
   "source": [
    "### Key Components of a Self-Query Retriever\n",
    "\n",
    "1. **Query Constructor**  \n",
    "   The core of the self-query retriever. A good retrieval system depends on a well-tuned query constructor.  \n",
    "   - Adjust the **prompt**, **examples**, and **attribute descriptions** for better results.  \n",
    "   - For a walkthrough using hotel data, see the **Query Constructor Cookbook**.\n",
    "\n",
    "2. **Structured Query Translator**  \n",
    "   Translates the `StructuredQuery` object into a metadata filter compatible with your vector store.  \n",
    "   - LangChain includes built-in translators.  \n",
    "   - See the [**Integrations**](https://python.langchain.com/docs/integrations/retrievers/self_query/) section for available options.\n"
   ]
  },
  {
   "cell_type": "markdown",
   "metadata": {},
   "source": []
  },
  {
   "cell_type": "code",
   "execution_count": 23,
   "metadata": {},
   "outputs": [],
   "source": [
    "from langchain_community.query_constructors.chroma import ChromaTranslator\n",
    "\n",
    "retriever = SelfQueryRetriever(\n",
    "    query_constructor=query_constructor,\n",
    "    vectorstore=vectorstore,\n",
    "    structured_query_translator=ChromaTranslator(),\n",
    ")"
   ]
  },
  {
   "cell_type": "code",
   "execution_count": null,
   "metadata": {},
   "outputs": [],
   "source": []
  }
 ],
 "metadata": {
  "kernelspec": {
   "display_name": "Python 3 (ipykernel)",
   "language": "python",
   "name": "python3"
  },
  "language_info": {
   "codemirror_mode": {
    "name": "ipython",
    "version": 3
   },
   "file_extension": ".py",
   "mimetype": "text/x-python",
   "name": "python",
   "nbconvert_exporter": "python",
   "pygments_lexer": "ipython3",
   "version": "3.12.8"
  }
 },
 "nbformat": 4,
 "nbformat_minor": 2
}
