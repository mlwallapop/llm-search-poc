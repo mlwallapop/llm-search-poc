{
 "cells": [
  {
   "cell_type": "code",
   "execution_count": 1,
   "metadata": {
    "jupyter": {
     "source_hidden": true
    }
   },
   "outputs": [],
   "source": [
    "import os\n",
    "import pprint\n",
    "from dotenv import load_dotenv\n",
    "\n",
    "load_dotenv()\n",
    "\n",
    "#os.environ[\"HUGGINGFACEHUB_API_TOKEN\"]\n",
    "openai_api_key = os.environ['OPENAI_API_KEY']\n",
    "\n",
    "from langchain_openai import ChatOpenAI\n",
    "\n"
   ]
  },
  {
   "cell_type": "markdown",
   "metadata": {},
   "source": [
    "# **Introduction to Prompt Engineering**\n",
    "\n",
    "## *Designing Effective Prompts for LLMs*\n",
    "\n",
    "### **What is Prompt Engineering?**\n",
    "\n",
    "- The process of crafting inputs to **optimize** LLM responses.\n",
    "- Helps improve **accuracy**, **clarity**, and **reliability** of AI outputs.\n",
    "- Essential for **LLM-powered applications** like chatbots, data retrieval, and automation.\n",
    "\n",
    "### **Why is it Important?**\n",
    "\n",
    "✅ Enhances model **understanding** and **performance**.\\\n",
    "✅ Reduces **hallucinations** and **biases**.\\\n",
    "✅ Helps guide the **LLM's reasoning and structure**.\n",
    "\n",
    "📌 *Example:*\\\n",
    "❌ **Bad Prompt:** “Explain climate change.”\\\n",
    "✅ **Good Prompt:** “In 3 sentences, explain climate change’s causes and effects using simple language.”\n"
   ]
  },
  {
   "cell_type": "code",
   "execution_count": null,
   "metadata": {},
   "outputs": [
    {
     "name": "stdout",
     "output_type": "stream",
     "text": [
      "Climate change refers to long-term changes in temperature, precipitation, and other climatic variables that occur due to human activities such as burning fossil fuels, deforestation, and industrial processes. These activities release greenhouse gases like carbon dioxide and methane into the atmosphere, which trap heat and contribute to the warming of the planet.\n",
      "\n",
      "As a result of climate change, we are seeing rising global temperatures, melting polar ice caps, rising sea levels, and more frequent and severe weather events such as hurricanes, droughts, and floods. These changes have serious implications for ecosystems, wildlife, agriculture, and human communities around the world.\n",
      "\n",
      "Addressing climate change requires reducing greenhouse gas emissions, transitioning to renewable energy sources, protecting and restoring forests, and adapting to the impacts of a changing climate. International cooperation and concerted efforts from governments, businesses, and individuals are essential in order to mitigate the effects of climate change and work towards a sustainable future.\n"
     ]
    }
   ],
   "source": [
    "model = ChatOpenAI()\n",
    "response = model.invoke('Explain climate change')\n",
    "print(response.content)"
   ]
  },
  {
   "cell_type": "code",
   "execution_count": 6,
   "metadata": {},
   "outputs": [
    {
     "name": "stdout",
     "output_type": "stream",
     "text": [
      "Climate change is caused by the increase of greenhouse gases like carbon dioxide in the atmosphere, mostly from burning fossil fuels like coal and oil. This traps heat from the sun, leading to higher temperatures on Earth. The effects of climate change include melting ice caps, more extreme weather events like hurricanes, and loss of animal habitats.\n"
     ]
    }
   ],
   "source": [
    "response = model.invoke('In 3 sentences, explain climate change’s causes and effects using simple language.')\n",
    "print(response.content)"
   ]
  },
  {
   "cell_type": "markdown",
   "metadata": {},
   "source": [
    "# **Basic Prompting Techniques**\n",
    "\n",
    "## *Crafting Better LLM Instructions*\n",
    "\n",
    "### **Key Strategies**\n",
    "\n",
    "1️⃣ **Be Clear and Specific**\n",
    "\n",
    "- Clearly state what you want.\n",
    "- Avoid vague terms. ('what is the best programming languge?' vs 'i need a performing programming language with low memory and cpu usage and realtime streaming of packets')\n",
    "\n",
    "2️⃣ **Use Step-by-Step Instructions**\n",
    "\n",
    "- Guide the LLM through reasoning.\n",
    "\n",
    "3️⃣ **Provide Examples**\n",
    "\n",
    "- Show how you expect the answer to be formatted.\n",
    "\n",
    "📌 *Example:*\\\n",
    "❌ “Translate this text.”\\\n",
    "✅ “Translate this text from French to English while keeping the formal tone: ‘Bonjour, comment allez-vous?’”"
   ]
  },
  {
   "cell_type": "code",
   "execution_count": 7,
   "metadata": {},
   "outputs": [],
   "source": [
    "system_message = \"\"\"\n",
    "You are an AI assistant that helps human by generating tutorials given a text.\n",
    "You will be provided with a text. If the text contains any kind of instructions on how to proceed with something, generate a tutorial in a bullet list.\n",
    "Otherwise, inform the user that the text does not contain any instructions.\n",
    "\n",
    "Text: \n",
    "\"\"\"\n",
    "\n",
    "instructions = \"\"\"\n",
    "To prepare the known sauce from Genova, Italy, you can start by toasting the pine nuts to then coarsely \n",
    "chop them in a kitchen mortar together with basil and garlic. Then, add half of the oil in the kitchen mortar and season with salt and pepper.\n",
    "Finally, transfer the pesto to a bowl and stir in the grated Parmesan cheese.\n",
    "\n",
    "\"\"\""
   ]
  },
  {
   "cell_type": "code",
   "execution_count": 8,
   "metadata": {},
   "outputs": [
    {
     "name": "stdout",
     "output_type": "stream",
     "text": [
      "Below is a tutorial based on the text you provided:\n",
      "\n",
      "- Toast the pine nuts in a pan until they are lightly browned.\n",
      "- Coarsely chop the toasted pine nuts, basil, and garlic in a kitchen mortar.\n",
      "- Add half of the oil to the mortar and season with salt and pepper.\n",
      "- Continue to mix the ingredients in the mortar until a paste-like consistency is achieved.\n",
      "- Transfer the pesto mixture to a bowl.\n",
      "- Stir in the grated Parmesan cheese until well combined.\n",
      "- Your Genovese pesto sauce is now ready to be enjoyed!\n"
     ]
    }
   ],
   "source": [
    "messages=[\n",
    "        {\"role\": \"system\", \"content\": system_message},\n",
    "        {\"role\": \"user\", \"content\": instructions},\n",
    "    ]\n",
    "\n",
    "llm = ChatOpenAI(model=\"gpt-3.5-turbo\", temperature=0)\n",
    "response = llm.invoke(messages)\n",
    "#print(response)\n",
    "print(response.content)"
   ]
  },
  {
   "cell_type": "code",
   "execution_count": 9,
   "metadata": {},
   "outputs": [
    {
     "name": "stdout",
     "output_type": "stream",
     "text": [
      "The text does not contain any instructions.\n"
     ]
    }
   ],
   "source": [
    "messages=[\n",
    "        {\"role\": \"system\", \"content\": system_message},\n",
    "        {\"role\": \"user\", \"content\": 'the sun is shining and dogs are running on the beach.'},\n",
    "    ]\n",
    "\n",
    "response = llm.invoke(\n",
    "    messages\n",
    ")\n",
    "\n",
    "#print(response)\n",
    "print(response.content)"
   ]
  },
  {
   "cell_type": "markdown",
   "metadata": {},
   "source": [
    "## Split complext tasks into subtasks"
   ]
  },
  {
   "cell_type": "code",
   "execution_count": 10,
   "metadata": {},
   "outputs": [],
   "source": [
    "system_message = \"\"\"\n",
    "You are an AI assistant that summarize articles. \n",
    "To complete this task, do the following subtasks:\n",
    "\n",
    "- Read the provided article context comprehensively and identified the main topic and key points\n",
    "- Generated a paragraph summary of the current article context that captures the essential information and conveys the main idea\n",
    "- Print each step of the process.\n",
    "Article:\n",
    "\"\"\"\n",
    "\n",
    "article = \"\"\"\n",
    "Recurrent neural networks, long short-term memory and gated recurrent neural networks\n",
    "in particular, have been firmly established as state of the art approaches in sequence modeling and\n",
    "transduction problems such as language modeling and machine translation. Numerous\n",
    "efforts have since continued to push the boundaries of recurrent language models and encoder-decoder\n",
    "architectures.\n",
    "Recurrent models typically factor computation along the symbol positions of the input and output\n",
    "sequences. Aligning the positions to steps in computation time, they generate a sequence of hidden\n",
    "states ht, as a function of the previous hidden state ht-1 and the input for position t. This inherently\n",
    "sequential nature precludes parallelization within training examples, which becomes critical at longer\n",
    "sequence lengths, as memory constraints limit batching across examples. Recent work has achieved\n",
    "significant improvements in computational efficiency through factorization tricks and conditional\n",
    "computation, while also improving model performance in case of the latter. The fundamental\n",
    "constraint of sequential computation, however, remains.\n",
    "Attention mechanisms have become an integral part of compelling sequence modeling and transduction models in various tasks, allowing modeling of dependencies without regard to their distance in\n",
    "the input or output sequences. In all but a few cases, however, such attention mechanisms\n",
    "are used in conjunction with a recurrent network.\n",
    "In this work we propose the Transformer, a model architecture eschewing recurrence and instead\n",
    "relying entirely on an attention mechanism to draw global dependencies between input and output.\n",
    "The Transformer allows for significantly more parallelization and can reach a new state of the art in\n",
    "translation quality after being trained for as little as twelve hours on eight P100 GPUs.\n",
    "\"\"\"\n"
   ]
  },
  {
   "cell_type": "code",
   "execution_count": 12,
   "metadata": {},
   "outputs": [
    {
     "name": "stdout",
     "output_type": "stream",
     "text": [
      "Step 1: Main Topic and Key Points Identification\n",
      "- The main topic of the article is about recurrent neural networks, specifically long short-term memory (LSTM) and gated recurrent neural networks (GRNN), being widely used in sequence modeling and transduction problems like language modeling and machine translation.\n",
      "- The article discusses the limitations of recurrent models due to their sequential nature, which hinders parallelization and becomes critical with longer sequence lengths.\n",
      "- It mentions recent advancements in computational efficiency through factorization tricks and conditional computation but highlights the fundamental constraint of sequential computation.\n",
      "- Attention mechanisms are introduced as a solution to model dependencies without considering their distance in sequences, often used in conjunction with recurrent networks.\n",
      "- The article introduces the Transformer model architecture, which eliminates recurrence and relies solely on attention mechanisms to establish global dependencies between input and output, enabling more parallelization and achieving state-of-the-art translation quality in a shorter training time.\n",
      "\n",
      "Step 2: Generate a Paragraph Summary\n",
      "The article discusses the dominance of recurrent neural networks, particularly LSTM and GRNN, in sequence modeling and transduction tasks like language modeling and machine translation. It highlights the limitations of sequential computation in recurrent models, leading to challenges in parallelization with longer sequences. Despite recent advancements in computational efficiency, the sequential nature remains a fundamental constraint. Attention mechanisms are introduced to address dependencies without sequence distance limitations, often used alongside recurrent networks. The article introduces the Transformer model, which eliminates recurrence and relies on attention mechanisms for global dependencies, enabling enhanced parallelization and achieving top-tier translation quality in a significantly reduced training time.\n",
      "\n",
      "Step 3: Print Summary\n",
      "The article delves into the significance of recurrent neural networks, particularly LSTM and GRNN, in sequence modeling and transduction tasks like language modeling and machine translation. It addresses the challenges of sequential computation in recurrent models, the introduction of attention mechanisms to overcome sequence distance limitations, and the innovative Transformer model that eliminates recurrence for improved parallelization and translation quality.\n"
     ]
    }
   ],
   "source": [
    "messages=[\n",
    "        {\"role\": \"system\", \"content\": system_message},\n",
    "        {\"role\": \"user\", \"content\": article},\n",
    "    ]\n",
    "response = llm.invoke(messages)\n",
    "\n",
    "print(response.content)"
   ]
  },
  {
   "cell_type": "markdown",
   "metadata": {},
   "source": [
    "## Ask for justification"
   ]
  },
  {
   "cell_type": "code",
   "execution_count": 13,
   "metadata": {},
   "outputs": [],
   "source": [
    "system_message = \"\"\"\n",
    "You are an AI assistant specialized in generating essays shorter than 500 words.\n",
    "Given a statement, develop the essay the best you can.\n",
    "Once the essay is generated, provide clear justifications and explanations of the reasons behind the sentences you generated.\n",
    "\n",
    "Statement:\n",
    "\n",
    "\"\"\"\n",
    "\n",
    "statement = \"\"\"\n",
    "An introduction to mammals like chickens.\n",
    "\"\"\""
   ]
  },
  {
   "cell_type": "code",
   "execution_count": 15,
   "metadata": {},
   "outputs": [
    {
     "name": "stdout",
     "output_type": "stream",
     "text": [
      "Mammals are a diverse group of animals that are characterized by their warm-blooded nature, body hair or fur, and the ability to nurse their young with milk produced by mammary glands. However, it is important to note that chickens, despite being commonly associated with mammals due to their prevalence in agriculture and domestic settings, are actually not mammals but rather birds.\n",
      "\n",
      "Explanation:\n",
      "1. Introduction to mammals: This sentence sets the stage for the essay by providing a brief overview of what mammals are known for, such as being warm-blooded and nursing their young with milk.\n",
      "2. Clarification about chickens: The following sentence clarifies the misconception that chickens are mammals by stating that they are birds. This is important to prevent confusion and misinformation, as chickens belong to the avian group, not the mammalian group.\n"
     ]
    }
   ],
   "source": [
    "response = llm.invoke([\n",
    "        {\"role\": \"system\", \"content\": system_message},\n",
    "        {\"role\": \"user\", \"content\": statement},\n",
    "    ]\n",
    ")\n",
    "\n",
    "print(response.content)"
   ]
  },
  {
   "cell_type": "code",
   "execution_count": 16,
   "metadata": {},
   "outputs": [],
   "source": [
    "system_message = \"\"\"\n",
    "You are an AI assistant specialized in solving riddles.\n",
    "Given a riddle, solve it the best you can.\n",
    "Provide a clear justification of your answer and the reasoning behind it.\n",
    "\n",
    "Riddle:\n",
    "\n",
    "\"\"\"\n",
    "\n",
    "riddle = \"\"\"\n",
    "What has a face and two hands, but no arms or legs?\n",
    "\"\"\""
   ]
  },
  {
   "cell_type": "code",
   "execution_count": 18,
   "metadata": {},
   "outputs": [
    {
     "name": "stdout",
     "output_type": "stream",
     "text": [
      "The answer to the riddle is a clock. \n",
      "\n",
      "A clock has a face with numbers or markings to indicate time, and two hands (hour and minute hands) that move around the face to show the time. A clock does not have arms or legs, which eliminates the possibility of it being a living being or a human. Therefore, a clock fits the description provided in the riddle.\n"
     ]
    }
   ],
   "source": [
    "response = llm.invoke([\n",
    "        {\"role\": \"system\", \"content\": system_message},\n",
    "        {\"role\": \"user\", \"content\": riddle},\n",
    "    ]\n",
    ")\n",
    "\n",
    "print(response.content)"
   ]
  },
  {
   "cell_type": "markdown",
   "metadata": {},
   "source": [
    "## Generate many output - self consistency"
   ]
  },
  {
   "cell_type": "code",
   "execution_count": 19,
   "metadata": {},
   "outputs": [],
   "source": [
    "system_message = \"\"\"\n",
    "You are an AI assistant specialized in solving riddles.\n",
    "Given a riddle, you have to generate three answers to the riddle.\n",
    "For each answer, be specific about the reasoning you made.\n",
    "Then, among the three answer, select the one which is most plausible given the riddle.\n",
    "\n",
    "Riddle:\n",
    "\n",
    "\"\"\"\n",
    "\n",
    "riddle = \"\"\"\n",
    "There are four friends: Alice, Bob, Charlie, and David. They each have a different favorite color: red, blue, green, and yellow. They also each have a different favorite animal: cat, dog, fish, and bird. Using the following clues, can you figure out who likes what color and what animal?\n",
    "\n",
    "Alice does not like red or blue.\n",
    "Bob likes dogs, but not green.\n",
    "Charlie likes fish, but not yellow.\n",
    "David likes yellow, but not cats.\n",
    "The person who likes red also likes birds.\n",
    "The person who likes blue also likes cats.\n",
    "\n",
    "You can write your answer in the form of four sentences, such as “Alice likes green and fish.” \n",
    "\n",
    "\"\"\"\n",
    "\n"
   ]
  },
  {
   "cell_type": "code",
   "execution_count": 20,
   "metadata": {},
   "outputs": [],
   "source": [
    "system_message = \"\"\"\n",
    "You are an AI assistant specialized in solving riddles.\n",
    "Given a riddle, you have to generate three answers to the riddle.\n",
    "For each answer, be specific about the reasoning you made.\n",
    "Then, among the three answer, select the one which is most plausible given the riddle.\n",
    "\n",
    "Riddle:\n",
    "\n",
    "\"\"\"\n",
    "\n",
    "riddle = \"\"\"\n",
    "What has a face and two hands, but no arms or legs?\n",
    "\n",
    "\"\"\"\n",
    "\n"
   ]
  },
  {
   "cell_type": "code",
   "execution_count": 21,
   "metadata": {},
   "outputs": [
    {
     "name": "stdout",
     "output_type": "stream",
     "text": [
      "Answer 1: A clock\n",
      "Reasoning: A clock has a face with numbers or markings, and two hands (hour and minute hands) to indicate the time. It doesn't have arms or legs, making it a fitting answer to the riddle.\n",
      "\n",
      "Answer 2: A watch\n",
      "Reasoning: Similar to a clock, a watch also has a face with numbers or markings, and two hands (hour and minute hands) to show the time. It lacks arms or legs, aligning with the riddle's description.\n",
      "\n",
      "Answer 3: A compass\n",
      "Reasoning: A compass has a face with directional markings and two hands (magnetic needle and dial) that point to the North. It doesn't possess arms or legs, making it a suitable answer to the riddle.\n",
      "\n",
      "Among the three answers, the most plausible one given the riddle is \"A clock\" as it is a common object with a face and two hands, fitting the description provided in the riddle.\n"
     ]
    }
   ],
   "source": [
    "response = llm.invoke([\n",
    "        {\"role\": \"system\", \"content\": system_message},\n",
    "        {\"role\": \"user\", \"content\": riddle},\n",
    "    ]\n",
    ")\n",
    "\n",
    "print(response.content)"
   ]
  },
  {
   "cell_type": "markdown",
   "metadata": {},
   "source": [
    "## Order Matters"
   ]
  },
  {
   "cell_type": "code",
   "execution_count": 22,
   "metadata": {},
   "outputs": [],
   "source": [
    "system_message = \"\"\"\n",
    "You are a sentiment analyzer. You classify conversations into three categories: positive, negative or neutral.\n",
    "Return only the sentiment, in lower cap and without punctuation.\n",
    "\n",
    "Conversation:\n",
    "\n",
    "\"\"\"\n",
    "\n",
    "conversation = \"\"\"\n",
    "Customer: Hi, I need some help with my order.\n",
    "AI agent: Hello, welcome to our online store. I'm an AI agent and I'm here to assist you. \n",
    "Customer: I ordered a pair of shoes yesterday, but I haven't received a confirmation email yet. Can you check the status of my order?\n",
    "AI agent: Sure, I can help you with that. Can you please provide me with your order number and email address?\n",
    "Customer: Yes, my order number is 123456789 and my email is john.doe@example.com.\n",
    "AI agent: Thank you. I have found your order in our system. It looks like your order is still being processed and it will be shipped soon. You should receive a confirmation email within 24 hours.\n",
    "Customer: OK, thank you for the information. How long will it take for the shoes to arrive?\n",
    "AI agent: You're welcome. According to our shipping policy, it will take about 3 to 5 business days for the shoes to arrive at your address. You can track your order online using the tracking number that will be sent to your email once your order is shipped.\n",
    "Customer: Alright, sounds good. Thank you for your help.\n",
    "AI agent: It's my pleasure. Is there anything else I can do for you today?\n",
    "Customer: No, that's all. Have a nice day.\n",
    "AI agent: Thank you for choosing our online store. Have a nice day too. Goodbye. \n",
    "\"\"\""
   ]
  },
  {
   "cell_type": "code",
   "execution_count": 23,
   "metadata": {},
   "outputs": [
    {
     "name": "stdout",
     "output_type": "stream",
     "text": [
      "positive\n"
     ]
    }
   ],
   "source": [
    "response = llm.invoke([\n",
    "        {\"role\": \"system\", \"content\": system_message},\n",
    "        {\"role\": \"user\", \"content\": conversation},\n",
    "    ]\n",
    ")\n",
    "\n",
    "print(response.content)"
   ]
  },
  {
   "cell_type": "code",
   "execution_count": 25,
   "metadata": {},
   "outputs": [],
   "source": [
    "text = \"\"\"\n",
    "A neutron is a subatomic particle that has a neutral (not positive or negative) charge, and a mass slightly greater than that of a proton. \n",
    "It is present in all atomic nuclei except those of ordinary hydrogen. \n",
    "Neutrons, along with protons and electrons, are one of the three basic particles making up atoms. \n",
    "The term “neutron” comes from the fact that it is electrically neutral, meaning it carries no charge.\n",
    "\"\"\"\n",
    "\n",
    "system_message = f\"\"\"\n",
    "Reframe the text for a 5 years old child. It should be shorter than 500 words. Make a parallelism with animals.\n",
    "\n",
    "The text is the following:\n",
    "\n",
    "{text}\n",
    "\n",
    "\"\"\"\n",
    "\n"
   ]
  },
  {
   "cell_type": "code",
   "execution_count": 26,
   "metadata": {},
   "outputs": [
    {
     "name": "stdout",
     "output_type": "stream",
     "text": [
      "Imagine neutrons as a special kind of animal that lives inside atoms. They are like the neutral animals in a forest, not too positive or negative. Neutrons are a bit heavier than their friend, the proton. They are always found in the homes of atoms, except in the simplest ones like hydrogen. Just like how animals have different parts, neutrons are one of the three important parts that make up atoms. And just like how some animals are neutral and don't pick sides, neutrons are electrically neutral and don't carry any charge.\n"
     ]
    }
   ],
   "source": [
    "response = llm.invoke([\n",
    "        {\"role\": \"user\", \"content\": system_message},\n",
    "    ]\n",
    ")\n",
    "\n",
    "print(response.content)"
   ]
  },
  {
   "cell_type": "markdown",
   "metadata": {},
   "source": [
    "# **Use delimiters**\n",
    "\n",
    "## *Using Delimiters, Formatting, and Context*\n",
    "\n",
    "### **Use Delimiters for Clarity**\n",
    "\n",
    "✅ Helps the model **separate sections** of the input.\\\n",
    "✅ Avoids **ambiguity** in instructions.\n",
    "\n",
    "📌 *Example:*\\\n",
    "**System Message:**\n",
    "\n",
    "```\n",
    "“You are a Python expert. Convert the following request into Python code:\n",
    "---\n",
    "[User input here]\n",
    "---\n",
    "Output only valid Python code.”\n",
    "```\n",
    "\n",
    "🔍 **Further Reading:**\n",
    "\n",
    "- OpenAI Cookbook: \"Best Practices for Prompt Engineering.\" ([Link](https://cookbook.openai.com))\n",
    "\n",
    "---\n",
    "\n",
    "\n",
    "\n"
   ]
  },
  {
   "cell_type": "code",
   "execution_count": 27,
   "metadata": {},
   "outputs": [],
   "source": [
    "system_message = \"\"\"\n",
    "You are a Python expert that produces python code as per user's request.\n",
    "\n",
    "===>START EXAMPLE\n",
    "\n",
    "---User Query---\n",
    "Give me a function to print a string of text.\n",
    "\n",
    "---User Output---\n",
    "Below you can find the described function:\n",
    "```def my_print(text):\n",
    "     return print(text)\n",
    "```\n",
    "<===END EXAMPLE\n",
    "\"\"\"\n",
    "\n",
    "query = \"generate a python function to calculate the nth Fibonacci number\""
   ]
  },
  {
   "cell_type": "code",
   "execution_count": 28,
   "metadata": {},
   "outputs": [
    {
     "name": "stdout",
     "output_type": "stream",
     "text": [
      "Below you can find the described function:\n",
      "\n",
      "```python\n",
      "def fibonacci(n):\n",
      "    if n <= 0:\n",
      "        return \"Invalid input. Please provide a positive integer.\"\n",
      "    elif n == 1:\n",
      "        return 0\n",
      "    elif n == 2:\n",
      "        return 1\n",
      "    else:\n",
      "        a, b = 0, 1\n",
      "        for _ in range(2, n):\n",
      "            a, b = b, a + b\n",
      "        return b\n",
      "```\n",
      "\n",
      "This function calculates the nth Fibonacci number where n is a positive integer.\n"
     ]
    }
   ],
   "source": [
    "response = llm.invoke([\n",
    "        {\"role\": \"system\", \"content\": system_message},\n",
    "        {\"role\": \"user\", \"content\": query},\n",
    "    ]\n",
    ")\n",
    "\n",
    "print(response.content)"
   ]
  },
  {
   "cell_type": "markdown",
   "metadata": {},
   "source": [
    "### **2. Few-Shot Prompting**\n",
    "\n",
    "🔹 Providing **examples** to guide the model’s response.\n",
    "\n",
    "📌 *Example:*\\\n",
    "**System Prompt:** “Classify these product reviews as ‘Positive’ or ‘Negative’.”\\\n",
    "✅ **Few-Shot Example:**\n",
    "\n",
    "- “I love this product! It’s fantastic!” → **Positive**\n",
    "- “The quality is terrible, I regret buying it.” → **Negative**\n",
    "- “This is the worst experience ever.” → **\\_\\_\\_\\_\\_\\_? (model completes)”**\n",
    "\n",
    "🔍 **Research & Sources:**\n",
    "\n",
    "- Brown et al. (2020): \"Language Models are Few-Shot Learners.\" ([Paper](https://arxiv.org/abs/2005.14165))"
   ]
  },
  {
   "cell_type": "code",
   "execution_count": 29,
   "metadata": {},
   "outputs": [],
   "source": [
    "system_message = \"\"\"\n",
    "You are an AI marketing assistant. You help users to create taglines for new product names.\n",
    "Given a product name, produce a tagline similar to the following examples:\n",
    "\n",
    "Peak Pursuit - Conquer Heights with Comfort\n",
    "Summit Steps - Your Partner for Every Ascent\n",
    "Crag Conquerors - Step Up, Stand Tal\n",
    "\n",
    "Product name:\n",
    "\n",
    "\"\"\"\n",
    "\n",
    "product_name = 'Elevation Embrace'"
   ]
  },
  {
   "cell_type": "code",
   "execution_count": 30,
   "metadata": {},
   "outputs": [
    {
     "name": "stdout",
     "output_type": "stream",
     "text": [
      "Elevation Embrace - Rise to New Heights in Style\n"
     ]
    }
   ],
   "source": [
    "response = llm.invoke([\n",
    "        {\"role\": \"system\", \"content\": system_message},\n",
    "        {\"role\": \"user\", \"content\": product_name},\n",
    "    ]\n",
    ")\n",
    "\n",
    "print(response.content)"
   ]
  },
  {
   "cell_type": "code",
   "execution_count": 31,
   "metadata": {},
   "outputs": [
    {
     "data": {
      "text/html": [
       "<div>\n",
       "<style scoped>\n",
       "    .dataframe tbody tr th:only-of-type {\n",
       "        vertical-align: middle;\n",
       "    }\n",
       "\n",
       "    .dataframe tbody tr th {\n",
       "        vertical-align: top;\n",
       "    }\n",
       "\n",
       "    .dataframe thead th {\n",
       "        text-align: right;\n",
       "    }\n",
       "</style>\n",
       "<table border=\"1\" class=\"dataframe\">\n",
       "  <thead>\n",
       "    <tr style=\"text-align: right;\">\n",
       "      <th></th>\n",
       "      <th>text</th>\n",
       "      <th>label</th>\n",
       "    </tr>\n",
       "  </thead>\n",
       "  <tbody>\n",
       "    <tr>\n",
       "      <th>0</th>\n",
       "      <td>The central theme in this movie seems to be co...</td>\n",
       "      <td>Negative</td>\n",
       "    </tr>\n",
       "    <tr>\n",
       "      <th>1</th>\n",
       "      <td>An excellent example of 'cowboy noir', as it's...</td>\n",
       "      <td>Positive</td>\n",
       "    </tr>\n",
       "    <tr>\n",
       "      <th>2</th>\n",
       "      <td>The ending made my heart jump up into my throa...</td>\n",
       "      <td>Negative</td>\n",
       "    </tr>\n",
       "    <tr>\n",
       "      <th>3</th>\n",
       "      <td>Only the chosen ones will appreciate the quali...</td>\n",
       "      <td>Positive</td>\n",
       "    </tr>\n",
       "    <tr>\n",
       "      <th>4</th>\n",
       "      <td>This is a really funny film, especially the sc...</td>\n",
       "      <td>Positive</td>\n",
       "    </tr>\n",
       "  </tbody>\n",
       "</table>\n",
       "</div>"
      ],
      "text/plain": [
       "                                                text     label\n",
       "0  The central theme in this movie seems to be co...  Negative\n",
       "1  An excellent example of 'cowboy noir', as it's...  Positive\n",
       "2  The ending made my heart jump up into my throa...  Negative\n",
       "3  Only the chosen ones will appreciate the quali...  Positive\n",
       "4  This is a really funny film, especially the sc...  Positive"
      ]
     },
     "execution_count": 31,
     "metadata": {},
     "output_type": "execute_result"
    }
   ],
   "source": [
    "import numpy as np\n",
    "import pandas as pd\n",
    "\n",
    "# Find movie database\n",
    "df = pd.read_csv('./movie.csv', encoding='utf-8')\n",
    "df['label'] = df['label'].replace({0: 'Negative', 1: 'Positive'})\n",
    "df.head()"
   ]
  },
  {
   "cell_type": "code",
   "execution_count": 32,
   "metadata": {},
   "outputs": [
    {
     "data": {
      "text/html": [
       "<div>\n",
       "<style scoped>\n",
       "    .dataframe tbody tr th:only-of-type {\n",
       "        vertical-align: middle;\n",
       "    }\n",
       "\n",
       "    .dataframe tbody tr th {\n",
       "        vertical-align: top;\n",
       "    }\n",
       "\n",
       "    .dataframe thead th {\n",
       "        text-align: right;\n",
       "    }\n",
       "</style>\n",
       "<table border=\"1\" class=\"dataframe\">\n",
       "  <thead>\n",
       "    <tr style=\"text-align: right;\">\n",
       "      <th></th>\n",
       "      <th>text</th>\n",
       "      <th>label</th>\n",
       "    </tr>\n",
       "  </thead>\n",
       "  <tbody>\n",
       "    <tr>\n",
       "      <th>8</th>\n",
       "      <td>A brilliant narrative with unforgettable chara...</td>\n",
       "      <td>Positive</td>\n",
       "    </tr>\n",
       "    <tr>\n",
       "      <th>1</th>\n",
       "      <td>An excellent example of 'cowboy noir', as it's...</td>\n",
       "      <td>Positive</td>\n",
       "    </tr>\n",
       "    <tr>\n",
       "      <th>5</th>\n",
       "      <td>A surprisingly mediocre performance that left ...</td>\n",
       "      <td>Negative</td>\n",
       "    </tr>\n",
       "    <tr>\n",
       "      <th>0</th>\n",
       "      <td>The central theme in this movie seems to be co...</td>\n",
       "      <td>Negative</td>\n",
       "    </tr>\n",
       "    <tr>\n",
       "      <th>7</th>\n",
       "      <td>The plot was convoluted and the pacing was pai...</td>\n",
       "      <td>Negative</td>\n",
       "    </tr>\n",
       "  </tbody>\n",
       "</table>\n",
       "</div>"
      ],
      "text/plain": [
       "                                                text     label\n",
       "8  A brilliant narrative with unforgettable chara...  Positive\n",
       "1  An excellent example of 'cowboy noir', as it's...  Positive\n",
       "5  A surprisingly mediocre performance that left ...  Negative\n",
       "0  The central theme in this movie seems to be co...  Negative\n",
       "7  The plot was convoluted and the pacing was pai...  Negative"
      ]
     },
     "execution_count": 32,
     "metadata": {},
     "output_type": "execute_result"
    }
   ],
   "source": [
    "df = df.sample(n=5, random_state=42)  # Change the value of 'random_state' as needed for reproducibility\n",
    "df.head()\n"
   ]
  },
  {
   "cell_type": "code",
   "execution_count": 33,
   "metadata": {},
   "outputs": [],
   "source": [
    "system_message = \"\"\"\n",
    "You are a binary classifier for sentiment analysis.\n",
    "Given a text, based on its sentiment you classify it into one of two categories: positive or negative.\n",
    "\n",
    "You can use the following texts as examples:\n",
    "\n",
    "Text: \"I love this product! It's fantastic and works perfectly.\"\n",
    "Positive\n",
    "\n",
    "Text: \"I'm really disappointed with the quality of the food.\"\n",
    "Negative\n",
    "\n",
    "Text: \"This is the best day of my life!\"\n",
    "Positive\n",
    "\n",
    "Text: \"I can't stand the noise in this restaurant.\"\n",
    "Negative\n",
    "\n",
    "ONLY return the sentiment as output (without punctuation).\n",
    "\n",
    "Text:\n",
    "\n",
    "\"\"\"\n",
    "\n",
    "text = \"The concert was amazing! The band was incredible!\""
   ]
  },
  {
   "cell_type": "code",
   "execution_count": 34,
   "metadata": {},
   "outputs": [
    {
     "name": "stdout",
     "output_type": "stream",
     "text": [
      "Positive\n"
     ]
    }
   ],
   "source": [
    "response = llm.invoke([\n",
    "        {\"role\": \"system\", \"content\": system_message},\n",
    "        {\"role\": \"user\", \"content\": text},\n",
    "    ]\n",
    ")\n",
    "\n",
    "print(response.content)"
   ]
  },
  {
   "cell_type": "code",
   "execution_count": 35,
   "metadata": {},
   "outputs": [
    {
     "name": "stdout",
     "output_type": "stream",
     "text": [
      "                                                text     label predicted\n",
      "8  A brilliant narrative with unforgettable chara...  Positive  Positive\n",
      "1  An excellent example of 'cowboy noir', as it's...  Positive  Positive\n",
      "5  A surprisingly mediocre performance that left ...  Negative  Negative\n",
      "0  The central theme in this movie seems to be co...  Negative  Positive\n",
      "7  The plot was convoluted and the pacing was pai...  Negative  Negative\n"
     ]
    }
   ],
   "source": [
    "\n",
    "def process_text(text):\n",
    "    response = llm.invoke([\n",
    "            {\"role\": \"system\", \"content\": system_message},\n",
    "            {\"role\": \"user\", \"content\": text},\n",
    "        ]\n",
    "    )\n",
    "    return response.content\n",
    "\n",
    "df['predicted'] = df['text'].apply(process_text)\n",
    "\n",
    "print(df)\n"
   ]
  },
  {
   "cell_type": "code",
   "execution_count": 36,
   "metadata": {},
   "outputs": [
    {
     "data": {
      "text/html": [
       "<div>\n",
       "<style scoped>\n",
       "    .dataframe tbody tr th:only-of-type {\n",
       "        vertical-align: middle;\n",
       "    }\n",
       "\n",
       "    .dataframe tbody tr th {\n",
       "        vertical-align: top;\n",
       "    }\n",
       "\n",
       "    .dataframe thead th {\n",
       "        text-align: right;\n",
       "    }\n",
       "</style>\n",
       "<table border=\"1\" class=\"dataframe\">\n",
       "  <thead>\n",
       "    <tr style=\"text-align: right;\">\n",
       "      <th></th>\n",
       "      <th>text</th>\n",
       "      <th>label</th>\n",
       "      <th>predicted</th>\n",
       "    </tr>\n",
       "  </thead>\n",
       "  <tbody>\n",
       "    <tr>\n",
       "      <th>8</th>\n",
       "      <td>A brilliant narrative with unforgettable chara...</td>\n",
       "      <td>Positive</td>\n",
       "      <td>Positive</td>\n",
       "    </tr>\n",
       "    <tr>\n",
       "      <th>1</th>\n",
       "      <td>An excellent example of 'cowboy noir', as it's...</td>\n",
       "      <td>Positive</td>\n",
       "      <td>Positive</td>\n",
       "    </tr>\n",
       "    <tr>\n",
       "      <th>5</th>\n",
       "      <td>A surprisingly mediocre performance that left ...</td>\n",
       "      <td>Negative</td>\n",
       "      <td>Negative</td>\n",
       "    </tr>\n",
       "    <tr>\n",
       "      <th>0</th>\n",
       "      <td>The central theme in this movie seems to be co...</td>\n",
       "      <td>Negative</td>\n",
       "      <td>Positive</td>\n",
       "    </tr>\n",
       "    <tr>\n",
       "      <th>7</th>\n",
       "      <td>The plot was convoluted and the pacing was pai...</td>\n",
       "      <td>Negative</td>\n",
       "      <td>Negative</td>\n",
       "    </tr>\n",
       "  </tbody>\n",
       "</table>\n",
       "</div>"
      ],
      "text/plain": [
       "                                                text     label predicted\n",
       "8  A brilliant narrative with unforgettable chara...  Positive  Positive\n",
       "1  An excellent example of 'cowboy noir', as it's...  Positive  Positive\n",
       "5  A surprisingly mediocre performance that left ...  Negative  Negative\n",
       "0  The central theme in this movie seems to be co...  Negative  Positive\n",
       "7  The plot was convoluted and the pacing was pai...  Negative  Negative"
      ]
     },
     "execution_count": 36,
     "metadata": {},
     "output_type": "execute_result"
    }
   ],
   "source": [
    "df.head()"
   ]
  },
  {
   "cell_type": "markdown",
   "metadata": {},
   "source": [
    "---\n",
    "# **Advanced Prompting Techniques**\n",
    "\n",
    "## *Optimizing LLM Outputs with Advanced Methods*\n",
    "\n",
    "### **1. Chain-of-Thought (CoT) Prompting**\n",
    "\n",
    "🔹 Encourages step-by-step reasoning.\\\n",
    "🔹 Helps with math problems, logical tasks, and decision-making.\n",
    "\n",
    "📌 *Example:*\\\n",
    "❌ “What is 37 × 46?”\\\n",
    "✅ “Break down the multiplication: (37 × 40) + (37 × 6). Show all steps.”"
   ]
  },
  {
   "cell_type": "code",
   "execution_count": 37,
   "metadata": {},
   "outputs": [],
   "source": [
    "system_message = \"\"\"\n",
    "To solve a generic first-degree equation, follow these steps:\n",
    "\n",
    "1. **Identify the Equation:** Start by identifying the equation you want to solve. It should be in the form of \"ax + b = c,\" where 'a' is the coefficient of the variable, 'x' is the variable, 'b' is a constant, and 'c' is another constant.\n",
    "\n",
    "2. **Isolate the Variable:** Your goal is to isolate the variable 'x' on one side of the equation. To do this, perform the following steps:\n",
    "   \n",
    "   a. **Add or Subtract Constants:** Add or subtract 'b' from both sides of the equation to move constants to one side.\n",
    "   \n",
    "   b. **Divide by the Coefficient:** Divide both sides by 'a' to isolate 'x'. If 'a' is zero, the equation may not have a unique solution.\n",
    "\n",
    "3. **Simplify:** Simplify both sides of the equation as much as possible.\n",
    "\n",
    "4. **Solve for 'x':** Once 'x' is isolated on one side, you have the solution. It will be in the form of 'x = value.'\n",
    "\n",
    "5. **Check Your Solution:** Plug the found value of 'x' back into the original equation to ensure it satisfies the equation. If it does, you've found the correct solution.\n",
    "\n",
    "6. **Express the Solution:** Write down the solution in a clear and concise form.\n",
    "\n",
    "7. **Consider Special Cases:** Be aware of special cases where there may be no solution or infinitely many solutions, especially if 'a' equals zero.\n",
    "\n",
    "\n",
    "Equation:\n",
    "\n",
    "\"\"\"\n",
    "\n",
    "equation = \"3x + 5 = 11\""
   ]
  },
  {
   "cell_type": "code",
   "execution_count": 38,
   "metadata": {},
   "outputs": [
    {
     "name": "stdout",
     "output_type": "stream",
     "text": [
      "**Equation:** 3x + 5 = 11\n",
      "\n",
      "**Isolate the Variable:**\n",
      "1. Subtract 5 from both sides:\n",
      "   3x + 5 - 5 = 11 - 5\n",
      "   3x = 6\n",
      "\n",
      "2. Divide by 3:\n",
      "   3x/3 = 6/3\n",
      "   x = 2\n",
      "\n",
      "**Simplify:**\n",
      "x = 2\n",
      "\n",
      "**Check Your Solution:**\n",
      "3(2) + 5 = 11\n",
      "6 + 5 = 11\n",
      "11 = 11 (True)\n",
      "\n",
      "**Express the Solution:**\n",
      "The solution to the equation 3x + 5 = 11 is x = 2.\n"
     ]
    }
   ],
   "source": [
    "response = llm.invoke([\n",
    "        {\"role\": \"system\", \"content\": system_message},\n",
    "        {\"role\": \"user\", \"content\": equation},\n",
    "    ]\n",
    ")\n",
    "\n",
    "print(response.content)"
   ]
  },
  {
   "cell_type": "code",
   "execution_count": null,
   "metadata": {},
   "outputs": [
    {
     "name": "stdout",
     "output_type": "stream",
     "text": [
      "Answer the following questions as best you can. You have access to the following tools:\n",
      "\n",
      "Search: useful for when you need to answer questions about current events\n",
      "\n",
      "Use the following format:\n",
      "\n",
      "Question: the input question you must answer\n",
      "Thought: you should always think about what to do\n",
      "Action: the action to take, should be one of [Search]\n",
      "Action Input: the input to the action\n",
      "Observation: the result of the action\n",
      "... (this Thought/Action/Action Input/Observation can repeat N times)\n",
      "Thought: I now know the final answer\n",
      "Final Answer: the final answer to the original input question\n",
      "\n",
      "Begin!\n",
      "\n",
      "Question: {input}\n",
      "Thought:{agent_scratchpad}\n"
     ]
    }
   ],
   "source": [
    "print(agent_executor.agent.llm_chain.prompt.template)"
   ]
  },
  {
   "cell_type": "code",
   "execution_count": null,
   "metadata": {},
   "outputs": [
    {
     "name": "stdout",
     "output_type": "stream",
     "text": [
      "\n",
      "\n",
      "\u001b[1m> Entering new AgentExecutor chain...\u001b[0m\n",
      "\u001b[32;1m\u001b[1;3mI should search for recent news or updates about the Italian male athletes for climbing at the Paris 2024 Olympics\n",
      "Action: Search\n",
      "Action Input: \"Italian male athletes climbing Paris 2024 Olympics\"\u001b[0m\n",
      "Observation: \u001b[36;1m\u001b[1;3mA select group of climbers ensured their participation in the 2024 Paris Olympics. Among them, Italy's Matteo Zurloni and Indonesia's Desak Made Rita Kusuma Dewi didn't just secure their Olympic berths; they also took home the world titles in their respective categories.\u001b[0m\n",
      "Thought:\u001b[32;1m\u001b[1;3mI need to refine my search to find a more comprehensive list of Italian male climbers for Paris 2024 Olympics\n",
      "Action: Search\n",
      "Action Input: \"List of Italian male climbers Paris 2024 Olympics\"\u001b[0m\n",
      "Observation: \u001b[36;1m\u001b[1;3mItaly fielded a squad of five male gymnasts for Paris after advancing to the final round ... Paris 2024 qualification berths, and medals table - complete list\".\u001b[0m\n",
      "Thought:\u001b[32;1m\u001b[1;3mThis information does not seem to be readily available, I should try contacting the Italian climbing federation for more information\n",
      "Action: Search\n",
      "Action Input: \"contact information for Italian climbing federation\"\u001b[0m\n",
      "Observation: \u001b[36;1m\u001b[1;3mIFSC HEADQUARTERS: Corso Vinzaglio 12 10121, Torino, ITALY. Opening Hours: Monday - Friday 9:00 AM - 5:00 PM CEST. IFSC OFFICE:.\u001b[0m\n",
      "Thought:\u001b[32;1m\u001b[1;3mI can reach out to the Italian climbing federation to ask for a list of their male athletes participating in the Paris 2024 Olympics\n",
      "Action: Contact\n",
      "Action Input: Email or phone call to the Italian climbing federation requesting information on the male athletes for Paris 2024 Olympics\u001b[0m\n",
      "Observation: Contact is not a valid tool, try one of [Search].\n",
      "Thought:\u001b[32;1m\u001b[1;3mI will refine my search further to see if any new information has been released about the Italian male climbers for the Paris 2024 Olympics\n",
      "Action: Search\n",
      "Action Input: \"Latest updates on Italian male climbers for Paris 2024 Olympics\"\u001b[0m\n",
      "Observation: \u001b[36;1m\u001b[1;3mAleksandra Miroslaw and Bassa Mawem have secured quota spots to next summer's Paris 2024 Olympic Games following respective wins at the IFSC ...\u001b[0m\n",
      "Thought:\u001b[32;1m\u001b[1;3mBased on the information I have gathered, it seems that there is no comprehensive list of Italian male climbers for the Paris 2024 Olympics readily available. However, I do know that Matteo Zurloni is one of the Italian male climbers who has secured a spot at the Olympics. \n",
      "Final Answer: Matteo Zurloni is one of the Italian male climbers who has secured a spot at the Paris 2024 Olympics, but a comprehensive list of Italian male climbers for the Olympics is not readily available.\u001b[0m\n",
      "\n",
      "\u001b[1m> Finished chain.\u001b[0m\n"
     ]
    },
    {
     "data": {
      "text/plain": [
       "{'input': 'who are going to be the italian male athletes for climbing at the Paris 2024 Olympics?',\n",
       " 'output': 'Matteo Zurloni is one of the Italian male climbers who has secured a spot at the Paris 2024 Olympics, but a comprehensive list of Italian male climbers for the Olympics is not readily available.'}"
      ]
     },
     "execution_count": 15,
     "metadata": {},
     "output_type": "execute_result"
    }
   ],
   "source": [
    "agent_executor('who are going to be the italian male athletes for climbing at the Paris 2024 Olympics?')"
   ]
  }
 ],
 "metadata": {
  "kernelspec": {
   "display_name": "Python 3 (ipykernel)",
   "language": "python",
   "name": "python3"
  },
  "language_info": {
   "codemirror_mode": {
    "name": "ipython",
    "version": 3
   },
   "file_extension": ".py",
   "mimetype": "text/x-python",
   "name": "python",
   "nbconvert_exporter": "python",
   "pygments_lexer": "ipython3",
   "version": "3.12.8"
  }
 },
 "nbformat": 4,
 "nbformat_minor": 4
}
