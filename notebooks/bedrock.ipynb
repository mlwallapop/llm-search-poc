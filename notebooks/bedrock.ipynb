{
 "cells": [
  {
   "cell_type": "code",
   "execution_count": 39,
   "metadata": {},
   "outputs": [],
   "source": [
    "from langchain_aws import ChatBedrock\n",
    "import pprint\n",
    "from langchain_core.tools import tool\n",
    "from langgraph.prebuilt import create_react_agent\n",
    "from langchain_core.prompts import ChatPromptTemplate\n",
    "\n",
    "model = ChatBedrock(\n",
    "    credentials_profile_name=\"prod\", model_id=\"anthropic.claude-3-5-sonnet-20240620-v1:0\", region='us-east-1'\n",
    ")\n",
    "\n",
    "@tool\n",
    "def magic_function(input: int) -> int:\n",
    "    \"\"\"Applies a magic function to an input.\"\"\"\n",
    "    return input + 2\n",
    "\n",
    "\n",
    "tools = [magic_function]\n",
    "\n",
    "system_message = \"You are a helpful assistant. Respond only in Spanish.\"\n",
    "# This could also be a SystemMessage object\n",
    "# system_message = SystemMessage(content=\"You are a helpful assistant. Respond only in Spanish.\")\n",
    "\n",
    "langgraph_agent_executor = create_react_agent(model, tools)"
   ]
  },
  {
   "cell_type": "code",
   "execution_count": 46,
   "metadata": {},
   "outputs": [],
   "source": [
    "query = \"what is the value of magic_function(3)?\"\n",
    "messages = langgraph_agent_executor.invoke({\"messages\":[(\"human\", query)]})"
   ]
  },
  {
   "cell_type": "code",
   "execution_count": 47,
   "metadata": {},
   "outputs": [
    {
     "data": {
      "text/plain": [
       "{'messages': [HumanMessage(content='what is the value of magic_function(3)?', additional_kwargs={}, response_metadata={}, id='da5d723d-22ca-4542-8856-5443c7550e2c'),\n",
       "  AIMessage(content='To answer your question about the value of magic_function(3), I can use the available magic_function tool. Let me call it with the input you provided.', additional_kwargs={'usage': {'prompt_tokens': 368, 'completion_tokens': 88, 'total_tokens': 456}, 'stop_reason': 'tool_use', 'thinking': {}, 'model_id': 'anthropic.claude-3-5-sonnet-20240620-v1:0'}, response_metadata={'usage': {'prompt_tokens': 368, 'completion_tokens': 88, 'total_tokens': 456}, 'stop_reason': 'tool_use', 'thinking': {}, 'model_id': 'anthropic.claude-3-5-sonnet-20240620-v1:0'}, id='run-00e63744-4a6d-48ce-bf88-895f5faaadb0-0', tool_calls=[{'name': 'magic_function', 'args': {'input': 3}, 'id': 'toolu_bdrk_011NAk8jDxeEQXbXQS98Z3pq', 'type': 'tool_call'}], usage_metadata={'input_tokens': 368, 'output_tokens': 88, 'total_tokens': 456}),\n",
       "  ToolMessage(content='5', name='magic_function', id='06f8e00d-b0fd-4210-ae98-d86458a94a14', tool_call_id='toolu_bdrk_011NAk8jDxeEQXbXQS98Z3pq'),\n",
       "  AIMessage(content=\"The magic_function(3) returns the value 5.\\n\\nTo explain the process:\\n1. I used the magic_function tool, which takes an integer input.\\n2. I provided the input value of 3, as you specified in your question.\\n3. The function returned the result 5.\\n\\nIt appears that the magic_function performs some operation on the input, in this case transforming 3 into 5. Without more information about the internal workings of the function, I can't specify exactly what operation it performs, but we can observe that it increased the input value by 2 in this instance.\\n\\nIs there anything else you'd like to know about the magic_function or its results?\", additional_kwargs={'usage': {'prompt_tokens': 468, 'completion_tokens': 156, 'total_tokens': 624}, 'stop_reason': 'end_turn', 'thinking': {}, 'model_id': 'anthropic.claude-3-5-sonnet-20240620-v1:0'}, response_metadata={'usage': {'prompt_tokens': 468, 'completion_tokens': 156, 'total_tokens': 624}, 'stop_reason': 'end_turn', 'thinking': {}, 'model_id': 'anthropic.claude-3-5-sonnet-20240620-v1:0'}, id='run-cc9671f2-8a6b-4506-bbe9-187aa94a1736-0', usage_metadata={'input_tokens': 468, 'output_tokens': 156, 'total_tokens': 624})]}"
      ]
     },
     "execution_count": 47,
     "metadata": {},
     "output_type": "execute_result"
    }
   ],
   "source": [
    "messages"
   ]
  },
  {
   "cell_type": "code",
   "execution_count": 48,
   "metadata": {},
   "outputs": [],
   "source": [
    "#add message history\n",
    "message_history = messages[\"messages\"]\n",
    "new_query = 'Pardon?'\n",
    "messages = langgraph_agent_executor.invoke(\n",
    "    {\"messages\": message_history + [(\"human\", new_query)]}\n",
    ")"
   ]
  },
  {
   "cell_type": "code",
   "execution_count": 49,
   "metadata": {},
   "outputs": [
    {
     "name": "stdout",
     "output_type": "stream",
     "text": [
      "{'messages': [HumanMessage(content='what is the value of magic_function(3)?', additional_kwargs={}, response_metadata={}, id='da5d723d-22ca-4542-8856-5443c7550e2c'),\n",
      "              AIMessage(content='To answer your question about the value of magic_function(3), I can use the available magic_function tool. Let me call it with the input you provided.', additional_kwargs={'usage': {'prompt_tokens': 368, 'completion_tokens': 88, 'total_tokens': 456}, 'stop_reason': 'tool_use', 'thinking': {}, 'model_id': 'anthropic.claude-3-5-sonnet-20240620-v1:0'}, response_metadata={'usage': {'prompt_tokens': 368, 'completion_tokens': 88, 'total_tokens': 456}, 'stop_reason': 'tool_use', 'thinking': {}, 'model_id': 'anthropic.claude-3-5-sonnet-20240620-v1:0'}, id='run-00e63744-4a6d-48ce-bf88-895f5faaadb0-0', tool_calls=[{'name': 'magic_function', 'args': {'input': 3}, 'id': 'toolu_bdrk_011NAk8jDxeEQXbXQS98Z3pq', 'type': 'tool_call'}], usage_metadata={'input_tokens': 368, 'output_tokens': 88, 'total_tokens': 456}),\n",
      "              ToolMessage(content='5', name='magic_function', id='06f8e00d-b0fd-4210-ae98-d86458a94a14', tool_call_id='toolu_bdrk_011NAk8jDxeEQXbXQS98Z3pq'),\n",
      "              AIMessage(content=\"The magic_function(3) returns the value 5.\\n\\nTo explain the process:\\n1. I used the magic_function tool, which takes an integer input.\\n2. I provided the input value of 3, as you specified in your question.\\n3. The function returned the result 5.\\n\\nIt appears that the magic_function performs some operation on the input, in this case transforming 3 into 5. Without more information about the internal workings of the function, I can't specify exactly what operation it performs, but we can observe that it increased the input value by 2 in this instance.\\n\\nIs there anything else you'd like to know about the magic_function or its results?\", additional_kwargs={'usage': {'prompt_tokens': 468, 'completion_tokens': 156, 'total_tokens': 624}, 'stop_reason': 'end_turn', 'thinking': {}, 'model_id': 'anthropic.claude-3-5-sonnet-20240620-v1:0'}, response_metadata={'usage': {'prompt_tokens': 468, 'completion_tokens': 156, 'total_tokens': 624}, 'stop_reason': 'end_turn', 'thinking': {}, 'model_id': 'anthropic.claude-3-5-sonnet-20240620-v1:0'}, id='run-cc9671f2-8a6b-4506-bbe9-187aa94a1736-0', usage_metadata={'input_tokens': 468, 'output_tokens': 156, 'total_tokens': 624}),\n",
      "              HumanMessage(content='Pardon?', additional_kwargs={}, response_metadata={}, id='6dccb921-2ed3-4771-99bc-c4f2fe24cd35'),\n",
      "              AIMessage(content=\"I apologize for any confusion. It seems my previous response wasn't clear enough. Let me rephrase and clarify:\\n\\nYou asked about the value of magic_function(3). To answer this question, I used the available magic_function tool with the input of 3. Here's a simplified explanation:\\n\\n1. I called the magic_function with an input of 3.\\n2. The function returned the result 5.\\n\\nSo, to directly answer your question: The value of magic_function(3) is 5.\\n\\nIs there anything specific about this result that you'd like me to explain further? Or do you have any other questions about the magic_function?\", additional_kwargs={'usage': {'prompt_tokens': 631, 'completion_tokens': 147, 'total_tokens': 778}, 'stop_reason': 'end_turn', 'thinking': {}, 'model_id': 'anthropic.claude-3-5-sonnet-20240620-v1:0'}, response_metadata={'usage': {'prompt_tokens': 631, 'completion_tokens': 147, 'total_tokens': 778}, 'stop_reason': 'end_turn', 'thinking': {}, 'model_id': 'anthropic.claude-3-5-sonnet-20240620-v1:0'}, id='run-1b6477a6-f6ef-4ba8-b1c8-96f9cc026366-0', usage_metadata={'input_tokens': 631, 'output_tokens': 147, 'total_tokens': 778})]}\n"
     ]
    }
   ],
   "source": [
    "pprint.pp(messages)"
   ]
  }
 ],
 "metadata": {
  "kernelspec": {
   "display_name": "Python 3 (ipykernel)",
   "language": "python",
   "name": "python3"
  }
 },
 "nbformat": 4,
 "nbformat_minor": 2
}
