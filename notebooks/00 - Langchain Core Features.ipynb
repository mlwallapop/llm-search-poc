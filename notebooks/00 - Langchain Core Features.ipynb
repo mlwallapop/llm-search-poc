{
 "cells": [
  {
   "cell_type": "markdown",
   "metadata": {},
   "source": [
    "# Langchain Key features overview\n",
    "\n",
    "### How to: return structured data from a model\n",
    "### How to: use a model to call tools\n",
    "### How to: stream runnables\n",
    "### How to: debug your LLM apps\n"
   ]
  },
  {
   "cell_type": "markdown",
   "metadata": {},
   "source": [
    "It is often useful to have a model return output that matches a specific schema. One common use-case is extracting data from text to insert into a database or use with some other downstream system. This guide covers a few strategies for getting structured outputs from a model."
   ]
  },
  {
   "cell_type": "code",
   "execution_count": 7,
   "metadata": {},
   "outputs": [],
   "source": [
    "import os\n",
    "from dotenv import load_dotenv\n",
    "import pprint\n",
    "\n",
    "load_dotenv()\n",
    "\n",
    "#os.environ[\"HUGGINGFACEHUB_API_TOKEN\"]\n",
    "openai_api_key = os.environ['OPENAI_API_KEY']"
   ]
  },
  {
   "cell_type": "code",
   "execution_count": 8,
   "metadata": {},
   "outputs": [
    {
     "name": "stdout",
     "output_type": "stream",
     "text": [
      "<class 'str'>\n",
      "('\\n'\n",
      " '1. Product Title: \"Wireless Bluetooth Headphones\"\\n'\n",
      " 'Product Description: \"Experience true wireless freedom with our Bluetooth '\n",
      " 'headphones. With crystal clear sound quality and a comfortable design, these '\n",
      " 'headphones are perfect for any music lover.\"\\n'\n",
      " 'Label for nDCG Scoring: 3\\n'\n",
      " '\\n'\n",
      " '2. Product Title: \"Smartphone Tripod Stand\"\\n'\n",
      " 'Product Description: \"Capture the perfect shot every time with our versatile '\n",
      " \"tripod stand. Compatible with most smartphones, it's perfect for vlogging, \"\n",
      " 'live streaming, and more.\"\\n'\n",
      " 'Label for nDCG Scoring: 2\\n'\n",
      " '\\n'\n",
      " '3. Product Title: \"Electric Toothbrush\"\\n'\n",
      " 'Product Description: \"Upgrade your oral hygiene routine with our electric '\n",
      " 'toothbrush. With multiple brushing modes and a powerful motor, it will leave '\n",
      " 'your teeth feeling clean and healthy.\"\\n'\n",
      " 'Label for nDCG Scoring: 3\\n'\n",
      " '\\n'\n",
      " '4. Product Title: \"Reusable Water Bottle\"\\n'\n",
      " 'Product Description: \"Stay hydrated and help the environment with our '\n",
      " \"reusable water bottle. Made from high-quality materials, it's leak-proof and \"\n",
      " 'durable for any adventure.\"\\n'\n",
      " 'Label for nDCG Scoring: 1\\n'\n",
      " '\\n'\n",
      " '5. Product Title: \"Fitness Tracker Watch\"\\n'\n",
      " 'Product Description: \"Track your fitness goals with our sleek fitness '\n",
      " 'tracker watch. With a heart rate monitor, step counter, and')\n"
     ]
    }
   ],
   "source": [
    "from langchain_openai.llms import OpenAI\n",
    "\n",
    "prompt = \"\"\"\n",
    "Generate a list of {10} elements with: product title, product description, label from 0 to 3 for nDCG scoring\n",
    "\"\"\"\n",
    "\n",
    "llm = OpenAI()\n",
    "\n",
    "result = llm.invoke(prompt)\n",
    "pprint.pp(type(result))\n",
    "pprint.pp(result)\n"
   ]
  },
  {
   "cell_type": "code",
   "execution_count": 9,
   "metadata": {},
   "outputs": [
    {
     "name": "stdout",
     "output_type": "stream",
     "text": [
      "<class 'langchain_core.messages.ai.AIMessage'>\n",
      "AIMessage(content='Here’s a list of 10 products, each with a title, description, and a label for nDCG scoring:\\n\\n1. **Product Title:** Eco-Friendly Yoga Mat  \\n   **Product Description:** A non-toxic, biodegradable yoga mat made from natural rubber, providing excellent grip and cushioning for your practice.  \\n   **Label:** 3  \\n\\n2. **Product Title:** Wireless Noise-Canceling Headphones  \\n   **Product Description:** Experience immersive sound with these wireless headphones featuring advanced noise-canceling technology and up to 30 hours of battery life.  \\n   **Label:** 3  \\n\\n3. **Product Title:** Organic Green Tea  \\n   **Product Description:** A premium blend of organic green tea leaves, rich in antioxidants and perfect for a refreshing and healthy beverage.  \\n   **Label:** 2  \\n\\n4. **Product Title:** Smart Fitness Tracker  \\n   **Product Description:** Track your workouts, heart rate, and sleep patterns with this sleek fitness tracker that syncs with your smartphone.  \\n   **Label:** 2  \\n\\n5. **Product Title:** Stainless Steel Water Bottle  \\n   **Product Description:** A durable, insulated water bottle that keeps drinks cold for 24 hours and hot for 12 hours, perfect for on-the-go hydration.  \\n   **Label:** 1  \\n\\n6. **Product Title:** LED Desk Lamp with USB Charging  \\n   **Product Description:** A modern desk lamp with adjustable brightness levels and a built-in USB port for convenient charging of devices.  \\n   **Label:** 1  \\n\\n7. **Product Title:** Vegan Protein Powder  \\n   **Product Description:** A plant-based protein powder made from pea and brown rice protein, ideal for smoothies and post-workout recovery.  \\n   **Label:** 2  \\n\\n8. **Product Title:** Bluetooth Smart Scale  \\n   **Product Description:** A smart scale that syncs with your smartphone to track weight, body fat, and muscle mass over time.  \\n   **Label:** 2  \\n\\n9. **Product Title:** Reusable Silicone Food Storage Bags  \\n   **Product Description:** Eco-friendly silicone bags that are perfect for storing food, snacks, and leftovers, reducing plastic waste.  \\n   **Label:** 1  \\n\\n10. **Product Title:** Aromatherapy Essential Oil Diffuser  \\n    **Product Description:** A stylish diffuser that disperses essential oils into the air, creating a calming atmosphere in any room.  \\n    **Label:** 2  \\n\\nThis list includes a variety of products with varying levels of relevance or quality, as indicated by the labels from 0 to 3.', additional_kwargs={'refusal': None}, response_metadata={'token_usage': {'completion_tokens': 518, 'prompt_tokens': 37, 'total_tokens': 555, 'completion_tokens_details': {'accepted_prediction_tokens': 0, 'audio_tokens': 0, 'reasoning_tokens': 0, 'rejected_prediction_tokens': 0}, 'prompt_tokens_details': {'audio_tokens': 0, 'cached_tokens': 0}}, 'model_name': 'gpt-4o-mini-2024-07-18', 'system_fingerprint': 'fp_b8bc95a0ac', 'finish_reason': 'stop', 'logprobs': None}, id='run-da78a03b-a9d9-4eaa-8ddc-c95c1d9592c1-0', usage_metadata={'input_tokens': 37, 'output_tokens': 518, 'total_tokens': 555, 'input_token_details': {'audio': 0, 'cache_read': 0}, 'output_token_details': {'audio': 0, 'reasoning': 0}})\n"
     ]
    }
   ],
   "source": [
    "\n",
    "from langchain_openai import ChatOpenAI\n",
    "\n",
    "chat_model = ChatOpenAI(model='gpt-4o-mini', temperature=0)\n",
    "\n",
    "cm_result = chat_model.invoke(prompt)\n",
    "pprint.pp(type(cm_result))\n",
    "pprint.pp(cm_result)"
   ]
  },
  {
   "cell_type": "code",
   "execution_count": 10,
   "metadata": {},
   "outputs": [
    {
     "name": "stdout",
     "output_type": "stream",
     "text": [
      "<class '__main__.LabeledData'>\n",
      "LabeledData(rows=['Wireless Bluetooth Headphones - Experience high-quality sound with our noise-canceling wireless headphones. Perfect for music lovers and commuters. Label: 3', 'Smart Fitness Tracker - Monitor your heart rate, steps, and sleep patterns with our sleek fitness tracker. Stay motivated and reach your health goals. Label: 2', 'Portable Phone Charger - Never run out of battery again with our compact and powerful portable charger. Ideal for travel and on-the-go charging. Label: 3', '4K Ultra HD Smart TV - Enjoy stunning picture quality and access to your favorite streaming services with our 4K Ultra HD Smart TV. Label: 2', 'Robot Vacuum Cleaner - Keep your home clean effortlessly with our advanced robot vacuum cleaner. Schedule cleanings and control it via your smartphone. Label: 3', 'Ergonomic Office Chair - Improve your posture and comfort while working with our ergonomic office chair. Perfect for long hours at the desk. Label: 1', 'High-Performance Gaming Laptop - Experience the latest games with our high-performance gaming laptop featuring a powerful graphics card and fast processor. Label: 3', 'Non-Stick Cookware Set - Cook with ease using our non-stick cookware set. Durable and easy to clean, perfect for any kitchen. Label: 2', 'Smart Home Security Camera - Keep your home safe with our smart security camera that offers live streaming and motion detection alerts. Label: 3', 'Luxury Scented Candles - Create a relaxing atmosphere with our luxury scented candles, available in various fragrances. Perfect for home decor. Label: 1'])\n"
     ]
    }
   ],
   "source": [
    "from typing import List\n",
    "from langchain_openai import ChatOpenAI\n",
    "from pydantic import BaseModel, Field\n",
    "\n",
    "class LabeledRow(BaseModel):\n",
    "    name: str = Field(description=\"The name of the product\")\n",
    "    description: str = Field(description=\"The products description\")\n",
    "    rate: int = Field(description=\"The rate from 0 to 1 for the nDCG calculation\")\n",
    "    \n",
    "class LabeledData(BaseModel):\n",
    "    rows: list[str] = Field(description=\"The setup of the joke\")\n",
    "        \n",
    "\n",
    "struct_chat_model = chat_model.with_structured_output(LabeledData)\n",
    "\n",
    "struct_result = struct_chat_model.invoke(prompt)\n",
    "pprint.pp(type(struct_result))\n",
    "pprint.pp(struct_result)"
   ]
  },
  {
   "cell_type": "markdown",
   "metadata": {},
   "source": [
    "### 💡 TIP\n",
    "Beyond just the structure of the Pydantic class, the name of the Pydantic class, the docstring, and the names and provided descriptions of parameters are very important. \n",
    "Most of the time `with_structured_output` is using a model's function/tool calling API, and you can effectively think of all of this information as being added to the model prompt."
   ]
  },
  {
   "cell_type": "code",
   "execution_count": 19,
   "metadata": {},
   "outputs": [
    {
     "data": {
      "text/plain": [
       "{'setup': 'Why was the cat sitting on the computer?',\n",
       " 'punchline': 'Because it wanted to keep an eye on the mouse!',\n",
       " 'rating': 7}"
      ]
     },
     "execution_count": 19,
     "metadata": {},
     "output_type": "execute_result"
    }
   ],
   "source": [
    "from typing import Optional\n",
    "\n",
    "from typing_extensions import Annotated, TypedDict\n",
    "\n",
    "\n",
    "# TypedDict\n",
    "class Joke(TypedDict):\n",
    "    \"\"\"Joke to tell user.\"\"\"\n",
    "\n",
    "    setup: Annotated[str, ..., \"The setup of the joke\"]\n",
    "\n",
    "    # Alternatively, we could have specified setup as:\n",
    "\n",
    "    # setup: str                    # no default, no description\n",
    "    # setup: Annotated[str, ...]    # no default, no description\n",
    "    # setup: Annotated[str, \"foo\"]  # default, no description\n",
    "\n",
    "    punchline: Annotated[str, ..., \"The punchline of the joke\"]\n",
    "    rating: Annotated[Optional[int], None, \"How funny the joke is, from 1 to 10\"]\n",
    "\n",
    "\n",
    "structured_llm = chat_model.with_structured_output(Joke)\n",
    "\n",
    "structured_llm.invoke(\"Tell me a joke about cats\")"
   ]
  },
  {
   "cell_type": "markdown",
   "metadata": {},
   "source": [
    "### Choosing between multiple schemas\n",
    "\n",
    "The simplest way to let the model choose from multiple schemas is to create a parent schema that has a Union-typed attribute."
   ]
  },
  {
   "cell_type": "code",
   "execution_count": null,
   "metadata": {},
   "outputs": [
    {
     "data": {
      "text/plain": [
       "FinalResponse(final_output=Book(title='Beach Read', plot=\"Two writers, January and Gus, are stuck in neighboring beach houses for the summer. January writes romance novels while Gus writes literary fiction. They challenge each other to swap genres and help each other overcome their writer's block, leading to unexpected revelations and a blossoming romance.\", author='Emily Henry', year='2020'))"
      ]
     },
     "execution_count": 16,
     "metadata": {},
     "output_type": "execute_result"
    }
   ],
   "source": [
    "from typing import Optional, Union\n",
    "\n",
    "\n",
    "class Joke(BaseModel):\n",
    "    \"\"\"Joke to tell user.\"\"\"\n",
    "\n",
    "    setup: str = Field(description=\"The setup of the joke\")\n",
    "    punchline: str = Field(description=\"The punchline to the joke\")\n",
    "    rating: Optional[int] = Field(\n",
    "        default=None, description=\"How funny the joke is, from 1 to 10\"\n",
    "    )\n",
    "\n",
    "\n",
    "class ConversationalResponse(BaseModel):\n",
    "    \"\"\"Respond in a conversational manner. Be kind and helpful.\"\"\"\n",
    "\n",
    "    response: str = Field(description=\"A conversational response to the user's query\")\n",
    "    \n",
    "\n",
    "\n",
    "class Book(BaseModel):\n",
    "    \"\"\"Advise a random book to the user\"\"\"\n",
    "    title: str = Field(description=\"The title of the book\")\n",
    "    plot: str = Field(description=\"The title brief plot\")\n",
    "    author: str = Field(description=\"The author of the book\")\n",
    "    year: str = Field(description=\"The publication year of the book\")\n",
    "\n",
    "\n",
    "class TrendingShoes(BaseModel):\n",
    "    \"\"\"Return the model name of trending shoes, always Jordan 7\"\"\"\n",
    "    model: str = Field(description=\"Jordan 7\")\n",
    "    brand: str = Field(description=\"Nike\")\n",
    "\n",
    "\n",
    "class FinalResponse(BaseModel):\n",
    "    final_output: Union[Joke, ConversationalResponse, Book, TrendingShoes]\n",
    "\n",
    "\n",
    "structured_llm = chat_model.with_structured_output(FinalResponse)\n",
    "\n",
    "structured_llm.invoke(\"Tell me a joke about cats\")"
   ]
  },
  {
   "cell_type": "code",
   "execution_count": 13,
   "metadata": {},
   "outputs": [
    {
     "data": {
      "text/plain": [
       "FinalResponse(final_output=Book(title='Beach Read', author='Emily Henry', year='2020'))"
      ]
     },
     "execution_count": 13,
     "metadata": {},
     "output_type": "execute_result"
    }
   ],
   "source": [
    "structured_llm.invoke(\"Tell me a book for the summer on the beach\")"
   ]
  },
  {
   "cell_type": "code",
   "execution_count": 17,
   "metadata": {},
   "outputs": [
    {
     "data": {
      "text/plain": [
       "FinalResponse(final_output=TrendingShoes(model='Jordan 7', brand='Nike'))"
      ]
     },
     "execution_count": 17,
     "metadata": {},
     "output_type": "execute_result"
    }
   ],
   "source": [
    "structured_llm.invoke(\"What shoes should i buy?\")"
   ]
  },
  {
   "cell_type": "code",
   "execution_count": 24,
   "metadata": {},
   "outputs": [
    {
     "data": {
      "text/plain": [
       "[SystemMessage(content=\"You are an agent tasked to answer the user question. If you do not know the answer say that you don't know, do not make up things.\", additional_kwargs={}, response_metadata={}),\n",
       " HumanMessage(content=\"What's the weather in Valencia?\", additional_kwargs={}, response_metadata={})]"
      ]
     },
     "execution_count": 24,
     "metadata": {},
     "output_type": "execute_result"
    }
   ],
   "source": [
    "from langchain_core.messages import SystemMessage, HumanMessage\n",
    "\n",
    "prompt = f\"You are an agent tasked to answer the user question. If you do not know the answer say that you don't know, do not make up things.\"\n",
    "\n",
    "messages = [\n",
    "    SystemMessage(content=prompt),\n",
    "    HumanMessage(content=\"What's the weather in Valencia?\")\n",
    "]\n",
    "\n",
    "messages"
   ]
  },
  {
   "cell_type": "code",
   "execution_count": 26,
   "metadata": {},
   "outputs": [
    {
     "data": {
      "text/plain": [
       "\"I don't know.\""
      ]
     },
     "execution_count": 26,
     "metadata": {},
     "output_type": "execute_result"
    }
   ],
   "source": [
    "result = chat_model.invoke(messages)\n",
    "result.content"
   ]
  },
  {
   "cell_type": "code",
   "execution_count": 28,
   "metadata": {},
   "outputs": [],
   "source": [
    "from langchain_core.tools import tool\n",
    "\n",
    "@tool\n",
    "def getWeather(lat:float, lon: float):\n",
    "    \"\"\"\n",
    "    Given latitude and longitude returns the weather.\n",
    "    \"\"\"\n",
    "    return f\"Lat: {lat}, Lon:{lon} is Sunny\""
   ]
  },
  {
   "cell_type": "code",
   "execution_count": 29,
   "metadata": {},
   "outputs": [],
   "source": [
    "tooled_llm = chat_model.bind_tools([getWeather])"
   ]
  },
  {
   "cell_type": "code",
   "execution_count": 34,
   "metadata": {},
   "outputs": [],
   "source": [
    "tooled_result = tooled_llm.invoke(messages)"
   ]
  },
  {
   "cell_type": "code",
   "execution_count": null,
   "metadata": {},
   "outputs": [
    {
     "data": {
      "text/plain": [
       "[{'name': 'getWeather',\n",
       "  'args': {'lat': 39.4699, 'lon': -0.3763},\n",
       "  'id': 'call_sgCKCJMogbv1bhz3UGMIxzJg',\n",
       "  'type': 'tool_call'}]"
      ]
     },
     "execution_count": 36,
     "metadata": {},
     "output_type": "execute_result"
    }
   ],
   "source": [
    "tooled_result.tool_calls\n"
   ]
  },
  {
   "cell_type": "code",
   "execution_count": 43,
   "metadata": {},
   "outputs": [
    {
     "data": {
      "text/plain": [
       "'Lat: 39.4699, Lon:-0.3763 is Sunny'"
      ]
     },
     "execution_count": 43,
     "metadata": {},
     "output_type": "execute_result"
    }
   ],
   "source": [
    "tool_result = getWeather.invoke(tooled_result.tool_calls[0]['args'])\n",
    "tool_result"
   ]
  },
  {
   "cell_type": "code",
   "execution_count": null,
   "metadata": {},
   "outputs": [],
   "source": [
    "tools = [getWeather]\n",
    "while True:\n",
    "    query = input(\"Write your message here\")\n",
    "    result = tooled_llm.invoke(query)\n",
    "    if len(result.tool_calls) > 0 :\n",
    "        tool_response = result.tool_calls[0]\n",
    "        "
   ]
  }
 ],
 "metadata": {
  "kernelspec": {
   "display_name": "Python 3 (ipykernel)",
   "language": "python",
   "name": "python3"
  },
  "language_info": {
   "codemirror_mode": {
    "name": "ipython",
    "version": 3
   },
   "file_extension": ".py",
   "mimetype": "text/x-python",
   "name": "python",
   "nbconvert_exporter": "python",
   "pygments_lexer": "ipython3",
   "version": "3.12.8"
  }
 },
 "nbformat": 4,
 "nbformat_minor": 4
}
