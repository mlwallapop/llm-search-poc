{
 "cells": [
  {
   "cell_type": "code",
   "execution_count": 1,
   "metadata": {},
   "outputs": [
    {
     "data": {
      "text/plain": [
       "False"
      ]
     },
     "execution_count": 1,
     "metadata": {},
     "output_type": "execute_result"
    }
   ],
   "source": [
    "from dotenv import load_dotenv\n",
    "load_dotenv()"
   ]
  },
  {
   "cell_type": "markdown",
   "metadata": {},
   "source": [
    "# Tool Calling and Structured Output\n",
    "\n",
    "For many applications, such as chatbots, models need to respond to users directly in natural language. However, there are scenarios where we need models to output in a structured format. \n",
    "For example, we might want to store the model output in a database and ensure that the output conforms to the database schema.\n",
    "\n",
    "This need motivates the concept of structured output, where models can be instructed to respond with a particular output structure.\n",
    "\n",
    "![Structured output](assets/structured_output-2c42953cee807dedd6e96f3e1db17f69.png \"Structured output\")"
   ]
  },
  {
   "cell_type": "markdown",
   "metadata": {},
   "source": [
    "`Pydantic` is particularly useful for defining structured output schemas because it offers type hints and validation. Here's an example of a Pydantic schema:"
   ]
  },
  {
   "cell_type": "code",
   "execution_count": null,
   "metadata": {},
   "outputs": [
    {
     "data": {
      "text/plain": [
       "AIMessage(content='', additional_kwargs={'tool_calls': [{'id': 'call_HA6oEQS3vZLZPNmQa2e1tBEJ', 'function': {'arguments': '{\"answer\":\"The powerhouse of the cell is the mitochondrion. Mitochondria are organelles that generate most of the cell\\'s supply of adenosine triphosphate (ATP), which is used as a source of chemical energy.\",\"followup_question\":\"What is the function of ATP in the cell?\"}', 'name': 'ResponseFormatter'}, 'type': 'function'}], 'refusal': None}, response_metadata={'token_usage': {'completion_tokens': 76, 'prompt_tokens': 80, 'total_tokens': 156, 'completion_tokens_details': {'accepted_prediction_tokens': 0, 'audio_tokens': 0, 'reasoning_tokens': 0, 'rejected_prediction_tokens': 0}, 'prompt_tokens_details': {'audio_tokens': 0, 'cached_tokens': 0}}, 'model_name': 'gpt-4o-2024-08-06', 'system_fingerprint': 'fp_6ec83003ad', 'id': 'chatcmpl-BElWB4kn7fOCIwo5FT9zkDv55ENIg', 'finish_reason': 'tool_calls', 'logprobs': None}, id='run-cda3cc86-a462-42ba-8c91-0037036983a6-0', tool_calls=[{'name': 'ResponseFormatter', 'args': {'answer': \"The powerhouse of the cell is the mitochondrion. Mitochondria are organelles that generate most of the cell's supply of adenosine triphosphate (ATP), which is used as a source of chemical energy.\", 'followup_question': 'What is the function of ATP in the cell?'}, 'id': 'call_HA6oEQS3vZLZPNmQa2e1tBEJ', 'type': 'tool_call'}], usage_metadata={'input_tokens': 80, 'output_tokens': 76, 'total_tokens': 156, 'input_token_details': {'audio': 0, 'cache_read': 0}, 'output_token_details': {'audio': 0, 'reasoning': 0}})"
      ]
     },
     "execution_count": 33,
     "metadata": {},
     "output_type": "execute_result"
    }
   ],
   "source": [
    "from langchain_openai import ChatOpenAI\n",
    "from pydantic import BaseModel, Field\n",
    "\n",
    "class ResponseFormatter(BaseModel):\n",
    "    \"\"\"Always use this tool to structure your response to the user.\"\"\"\n",
    "    answer: str = Field(description=\"The answer to the user's question\")\n",
    "    followup_question: str = Field(description=\"A followup question the user could ask\")\n",
    "    \n",
    "\n",
    "model = ChatOpenAI(model=\"gpt-4o\", temperature=0)\n",
    "# Bind responseformatter schema as a tool to the model\n",
    "model_with_tools = model.bind_tools([ResponseFormatter])\n",
    "# Invoke the model\n",
    "ai_msg = model_with_tools.invoke(\"What is the powerhouse of the cell?\")\n",
    "\n",
    "ai_msg"
   ]
  },
  {
   "cell_type": "markdown",
   "metadata": {},
   "source": [
    "### Challenges with Structured Output\n",
    "\n",
    "There are a few challenges when producing structured output with the above methods:\n",
    "\n",
    "1. **Tool Argument Parsing**  \n",
    "   When tool calling is used, tool call arguments need to be parsed from a dictionary back to the original schema.\n",
    "\n",
    "2. **Enforcing Tool Use**  \n",
    "   The model needs to be instructed to always use the tool when we want to enforce structured output, which is a provider-specific setting.\n",
    "\n",
    "3. **JSON Mode Parsing**  \n",
    "   When JSON mode is used, the output needs to be parsed into a JSON object.\n",
    "\n",
    "With these challenges in mind, LangChain provides a helper function — `with_structured_output()` — to streamline the process.\n",
    "\n",
    "![Structured output](assets/with_structured_output-4fd0fdc94f644554d52c6a8dee96ea21.png \"Structured output\")"
   ]
  },
  {
   "cell_type": "code",
   "execution_count": 35,
   "metadata": {},
   "outputs": [
    {
     "name": "stdout",
     "output_type": "stream",
     "text": [
      "answer='The powerhouse of the cell is the **mitochondrion** (plural: mitochondria). Mitochondria are organelles found in the cells of most eukaryotic organisms. They are responsible for producing energy in the form of adenosine triphosphate (ATP) through a process known as cellular respiration. This energy is essential for various cellular functions and activities, making mitochondria crucial for cell survival and function.' followup_question='How do mitochondria produce energy?'\n",
      "<class '__main__.ResponseFormatter'>\n"
     ]
    }
   ],
   "source": [
    "# Bind the schema to the model\n",
    "model_with_structure = model.with_structured_output(ResponseFormatter)\n",
    "# Invoke the model\n",
    "structured_output = model_with_structure.invoke(\"What is the powerhouse of the cell?\")\n",
    "# Get back the pydantic object\n",
    "print(structured_output)\n",
    "print(type(structured_output))"
   ]
  },
  {
   "cell_type": "markdown",
   "metadata": {},
   "source": [
    "## Tools\n",
    "\n",
    "Many AI applications interact directly with humans. In these cases, it is appropriate for models to respond in natural language. \n",
    "\n",
    "But what about cases where we want a model to also interact directly with systems, such as databases or an API? \n",
    "These systems often have a particular input schema; for example, APIs frequently have a required payload structure.\n",
    "This need motivates the concept of tool calling. \n",
    "\n",
    "You can use tool calling to request model responses that match a particular schema.\n",
    "\n",
    "![Tool Calling](assets/tool_call_example-2348b869f9a5d0d2a45dfbe614c177a4.png \"Tool Calling\")"
   ]
  },
  {
   "cell_type": "markdown",
   "metadata": {},
   "source": [
    "### Key Concepts\n",
    "\n",
    "1. **Tool Creation**  \n",
    "   Use the `@tool` decorator to create a tool. A tool is an association between a function and its schema.\n",
    "\n",
    "2. **Tool Binding**  \n",
    "   The tool needs to be connected to a model that supports tool calling. This gives the model awareness of the tool and the associated input schema required by the tool.\n",
    "\n",
    "3. **Tool Calling**  \n",
    "   When appropriate, the model can decide to call a tool and ensure its response conforms to the tool's input schema.\n",
    "\n",
    "4. **Tool Execution**  \n",
    "   The tool can be executed using the arguments provided by the model."
   ]
  },
  {
   "cell_type": "markdown",
   "metadata": {},
   "source": [
    "### Tool creation\n",
    "\n",
    "Creating a tool is as easy as using the `@tool` decorator on any function and add a description so the model can understand what the tool can do."
   ]
  },
  {
   "cell_type": "code",
   "execution_count": 37,
   "metadata": {},
   "outputs": [],
   "source": [
    "from langchain_core.tools import tool\n",
    "\n",
    "@tool\n",
    "def multiply(a: int, b: int) -> int:\n",
    "    \"\"\"Multiply a and b.\n",
    "\n",
    "    Args:\n",
    "        a: first int\n",
    "        b: second int\n",
    "    \"\"\"\n",
    "    return a * b"
   ]
  },
  {
   "cell_type": "markdown",
   "metadata": {},
   "source": [
    "### Tool binding\n",
    "\n",
    "As a specific example, let's take a function `multiply` and bind it as a tool to a model that supports tool calling."
   ]
  },
  {
   "cell_type": "code",
   "execution_count": 39,
   "metadata": {},
   "outputs": [],
   "source": [
    "model_with_tools = model.bind_tools([multiply])"
   ]
  },
  {
   "cell_type": "markdown",
   "metadata": {},
   "source": [
    "### Tool Calling\n",
    "\n",
    "A key principle of tool calling is that the model decides when to use a tool based on the input's relevance. The model doesn't always need to call a tool."
   ]
  },
  {
   "cell_type": "code",
   "execution_count": 41,
   "metadata": {},
   "outputs": [
    {
     "data": {
      "text/plain": [
       "AIMessage(content='Hello! How can I assist you today?', additional_kwargs={'refusal': None}, response_metadata={'token_usage': {'completion_tokens': 11, 'prompt_tokens': 61, 'total_tokens': 72, 'completion_tokens_details': {'accepted_prediction_tokens': 0, 'audio_tokens': 0, 'reasoning_tokens': 0, 'rejected_prediction_tokens': 0}, 'prompt_tokens_details': {'audio_tokens': 0, 'cached_tokens': 0}}, 'model_name': 'gpt-4o-2024-08-06', 'system_fingerprint': 'fp_6ec83003ad', 'id': 'chatcmpl-BElmJupDIEi3m8Akhbv0B1N8mWNtg', 'finish_reason': 'stop', 'logprobs': None}, id='run-f606775b-6917-4652-bbed-f9a615538247-0', usage_metadata={'input_tokens': 61, 'output_tokens': 11, 'total_tokens': 72, 'input_token_details': {'audio': 0, 'cache_read': 0}, 'output_token_details': {'audio': 0, 'reasoning': 0}})"
      ]
     },
     "execution_count": 41,
     "metadata": {},
     "output_type": "execute_result"
    }
   ],
   "source": [
    "result = model_with_tools.invoke(\"Hello world!\")\n",
    "result"
   ]
  },
  {
   "cell_type": "markdown",
   "metadata": {},
   "source": [
    "However, if we pass an input relevant to the tool, the model should choose to call it:"
   ]
  },
  {
   "cell_type": "code",
   "execution_count": 43,
   "metadata": {},
   "outputs": [
    {
     "data": {
      "text/plain": [
       "[{'name': 'multiply',\n",
       "  'args': {'a': 2, 'b': 3},\n",
       "  'id': 'call_XPikbEUUJN07AJgQN4QL0S6M',\n",
       "  'type': 'tool_call'}]"
      ]
     },
     "execution_count": 43,
     "metadata": {},
     "output_type": "execute_result"
    }
   ],
   "source": [
    "result = model_with_tools.invoke(\"What is 2 multiplied by 3?\")\n",
    "result.tool_calls"
   ]
  },
  {
   "cell_type": "markdown",
   "metadata": {},
   "source": [
    "### Tool execution\n",
    "Tools implement the `Runnable` interface, which means that they can be invoked (e.g., `tool.invoke(args)`) directly."
   ]
  },
  {
   "cell_type": "code",
   "execution_count": 45,
   "metadata": {},
   "outputs": [
    {
     "data": {
      "text/plain": [
       "6"
      ]
     },
     "execution_count": 45,
     "metadata": {},
     "output_type": "execute_result"
    }
   ],
   "source": [
    "multiply.invoke(result.tool_calls[0]['args'])"
   ]
  },
  {
   "cell_type": "markdown",
   "metadata": {},
   "source": [
    "### Best Practices\n",
    "\n",
    "When designing tools to be used by a model, keep the following in mind:\n",
    "\n",
    "- **Use Models with Tool-Calling APIs**  \n",
    "  Models that have explicit tool-calling APIs will be better at tool calling than non-fine-tuned models.\n",
    "\n",
    "- **Name and Describe Tools Clearly**  \n",
    "  Models perform better when tools have well-chosen, descriptive names and explanations.\n",
    "\n",
    "- **Keep Tools Simple and Focused**  \n",
    "  Simple, narrowly scoped tools are easier for models to use effectively than complex or multifunctional tools.\n",
    "\n",
    "- **Limit the Number of Tools**  \n",
    "  Asking the model to select from a large list of tools can be challenging and may reduce accuracy.\n"
   ]
  }
 ],
 "metadata": {
  "kernelspec": {
   "display_name": "Python 3 (ipykernel)",
   "language": "python",
   "name": "python3"
  },
  "language_info": {
   "codemirror_mode": {
    "name": "ipython",
    "version": 3
   },
   "file_extension": ".py",
   "mimetype": "text/x-python",
   "name": "python",
   "nbconvert_exporter": "python",
   "pygments_lexer": "ipython3",
   "version": "3.12.8"
  }
 },
 "nbformat": 4,
 "nbformat_minor": 2
}
