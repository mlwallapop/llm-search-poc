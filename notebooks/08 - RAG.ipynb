{
 "cells": [
  {
   "cell_type": "code",
   "execution_count": 1,
   "metadata": {},
   "outputs": [],
   "source": [
    "from dotenv import load_dotenv\n",
    "load_dotenv()\n",
    "import pprint"
   ]
  },
  {
   "cell_type": "markdown",
   "metadata": {},
   "source": [
    "# 🧠 Retrieval Augmented Generation (RAG)\n",
    "\n",
    "RAG = **retrieval + generation** 🎯  \n",
    "It boosts LLMs by giving them access to **external knowledge** — solving the problem of **outdated** or **limited** internal memory.\n",
    "\n",
    "---\n",
    "\n",
    "## 🔑 How RAG Works\n",
    "\n",
    "1. 🔍 **Retrieve**: Find relevant info using a retriever  \n",
    "2. 🧾 **Inject**: Add that info into the model's prompt  \n",
    "3. 🤖 **Generate**: Let the model answer with grounded context\n",
    "\n",
    "![RAG](assets/rag_concepts-4499b260d1053838a3e361fb54f376ec.png \"RAG\")\n",
    "\n",
    "---\n",
    "\n",
    "## 🚀 Why RAG?\n",
    "\n",
    "- 🆕 **Stay up-to-date** with current info  \n",
    "- 📚 **Tap into domain-specific knowledge**  \n",
    "- 🎯 **Reduce hallucinations** with grounded answers  \n",
    "- 💸 **Avoid expensive fine-tuning**\n",
    "\n",
    "🔗 [Retrieval Concepts](https://python.langchain.com/docs/concepts/retrieval/)\n",
    "\n",
    "---\n",
    "\n",
    "## 🧩 Typical RAG Flow\n",
    "\n",
    "1. Accept a user query  \n",
    "2. Retrieve relevant documents  \n",
    "3. Format and inject them into the system prompt  \n",
    "4. Generate a concise response using the LLM"
   ]
  },
  {
   "cell_type": "markdown",
   "metadata": {},
   "source": [
    "### Setup vector store"
   ]
  },
  {
   "cell_type": "code",
   "execution_count": 2,
   "metadata": {},
   "outputs": [],
   "source": [
    "from langchain_chroma import Chroma\n",
    "from langchain_core.documents import Document\n",
    "from langchain_openai import OpenAIEmbeddings\n",
    "\n",
    "docs = [\n",
    "    Document(\n",
    "        page_content=\"A bunch of scientists bring back dinosaurs and mayhem breaks loose\",\n",
    "        metadata={\"year\": 1993, \"rating\": 7.7, \"genre\": \"science fiction\"},\n",
    "    ),\n",
    "    Document(\n",
    "        page_content=\"Leo DiCaprio gets lost in a dream within a dream within a dream within a ...\",\n",
    "        metadata={\"year\": 2010, \"director\": \"Christopher Nolan\", \"rating\": 8.2},\n",
    "    ),\n",
    "    Document(\n",
    "        page_content=\"A psychologist / detective gets lost in a series of dreams within dreams within dreams and Inception reused the idea\",\n",
    "        metadata={\"year\": 2006, \"director\": \"Satoshi Kon\", \"rating\": 8.6},\n",
    "    ),\n",
    "    Document(\n",
    "        page_content=\"A bunch of normal-sized women are supremely wholesome and some men pine after them\",\n",
    "        metadata={\"year\": 2019, \"director\": \"Greta Gerwig\", \"rating\": 8.3},\n",
    "    ),\n",
    "    Document(\n",
    "        page_content=\"Toys come alive and have a blast doing so\",\n",
    "        metadata={\"year\": 1995, \"genre\": \"animated\"},\n",
    "    ),\n",
    "    Document(\n",
    "        page_content=\"Three men walk into the Zone, three men walk out of the Zone\",\n",
    "        metadata={\n",
    "            \"year\": 1979,\n",
    "            \"director\": \"Andrei Tarkovsky\",\n",
    "            \"genre\": \"thriller\",\n",
    "            \"rating\": 9.9,\n",
    "        },\n",
    "    ),\n",
    "]\n",
    "vectorstore = Chroma.from_documents(docs, OpenAIEmbeddings())"
   ]
  },
  {
   "cell_type": "markdown",
   "metadata": {},
   "source": [
    "### Setup retriever"
   ]
  },
  {
   "cell_type": "code",
   "execution_count": 3,
   "metadata": {},
   "outputs": [],
   "source": [
    "from langchain.chains.query_constructor.schema import AttributeInfo\n",
    "from langchain.retrievers.self_query.base import SelfQueryRetriever\n",
    "from langchain_openai import ChatOpenAI\n",
    "\n",
    "metadata_field_info = [\n",
    "    AttributeInfo(\n",
    "        name=\"genre\",\n",
    "        description=\"The genre of the movie. One of ['science fiction', 'comedy', 'drama', 'thriller', 'romance', 'action', 'animated']\",\n",
    "        type=\"string\",\n",
    "    ),\n",
    "    AttributeInfo(\n",
    "        name=\"year\",\n",
    "        description=\"The year the movie was released\",\n",
    "        type=\"integer\",\n",
    "    ),\n",
    "    AttributeInfo(\n",
    "        name=\"director\",\n",
    "        description=\"The name of the movie director\",\n",
    "        type=\"string\",\n",
    "    ),\n",
    "    AttributeInfo(\n",
    "        name=\"rating\", description=\"A 1-10 rating for the movie\", type=\"float\"\n",
    "    ),\n",
    "]\n",
    "document_content_description = \"Brief summary of a movie\"\n",
    "llm = ChatOpenAI(temperature=0)\n",
    "retriever = SelfQueryRetriever.from_llm(\n",
    "    llm=llm,\n",
    "    vectorstore=vectorstore,\n",
    "    document_contents=document_content_description,\n",
    "    metadata_field_info=metadata_field_info,\n",
    "    verbose= True\n",
    ")"
   ]
  },
  {
   "cell_type": "markdown",
   "metadata": {},
   "source": [
    "### Retrieve documents by question"
   ]
  },
  {
   "cell_type": "code",
   "execution_count": 4,
   "metadata": {},
   "outputs": [
    {
     "name": "stdout",
     "output_type": "stream",
     "text": [
      "[Document(id='b7f44207-6a3e-41c2-8a59-9fb402f56c90', metadata={'director': 'Christopher Nolan', 'rating': 8.2, 'year': 2010}, page_content='Leo DiCaprio gets lost in a dream within a dream within a dream within a ...'),\n",
      " Document(id='e1faebee-8418-45ce-85c6-47beb27e0030', metadata={'director': 'Satoshi Kon', 'rating': 8.6, 'year': 2006}, page_content='A psychologist / detective gets lost in a series of dreams within dreams within dreams and Inception reused the idea'),\n",
      " Document(id='936a65b5-0f5e-4ac3-be42-f059b4363006', metadata={'genre': 'science fiction', 'rating': 7.7, 'year': 1993}, page_content='A bunch of scientists bring back dinosaurs and mayhem breaks loose'),\n",
      " Document(id='f7c8247b-e519-4cff-b8be-3535be5262b5', metadata={'director': 'Andrei Tarkovsky', 'genre': 'thriller', 'rating': 9.9, 'year': 1979}, page_content='Three men walk into the Zone, three men walk out of the Zone')]\n"
     ]
    }
   ],
   "source": [
    "from langchain_openai import ChatOpenAI\n",
    "from langchain_core.messages import SystemMessage, HumanMessage\n",
    "\n",
    "# Define a question\n",
    "question = \"\"\"What are Leonardio Di Caprio movies about?\"\"\"\n",
    "\n",
    "# Retrieve relevant documents\n",
    "docs = retriever.invoke(question)\n",
    "pprint.pp(docs)"
   ]
  },
  {
   "cell_type": "markdown",
   "metadata": {},
   "source": [
    "### Set up the system prompt, add the context"
   ]
  },
  {
   "cell_type": "code",
   "execution_count": 5,
   "metadata": {},
   "outputs": [
    {
     "name": "stdout",
     "output_type": "stream",
     "text": [
      "('You are an assistant for question-answering tasks. \\n'\n",
      " 'Use the following pieces of retrieved context to answer the question. \\n'\n",
      " \"If you don't know the answer, just say that you don't know. \\n\"\n",
      " 'Use three sentences maximum and keep the answer concise.\\n'\n",
      " 'Context: Leo DiCaprio gets lost in a dream within a dream within a dream '\n",
      " 'within a ...A psychologist / detective gets lost in a series of dreams '\n",
      " 'within dreams within dreams and Inception reused the ideaA bunch of '\n",
      " 'scientists bring back dinosaurs and mayhem breaks looseThree men walk into '\n",
      " 'the Zone, three men walk out of the Zone:')\n"
     ]
    }
   ],
   "source": [
    "# Define a system prompt that tells the model how to use the retrieved context\n",
    "system_prompt = \"\"\"You are an assistant for question-answering tasks. \n",
    "Use the following pieces of retrieved context to answer the question. \n",
    "If you don't know the answer, just say that you don't know. \n",
    "Use three sentences maximum and keep the answer concise.\n",
    "Context: {context}:\"\"\"\n",
    "\n",
    "# Combine the documents into a single string\n",
    "docs_text = \"\".join(d.page_content for d in docs)\n",
    "\n",
    "# Populate the system prompt with the retrieved context\n",
    "system_prompt_fmt = system_prompt.format(context=docs_text)\n",
    "pprint.pp(system_prompt_fmt)\n"
   ]
  },
  {
   "cell_type": "markdown",
   "metadata": {},
   "source": [
    "### Use the retrieved content to craft the answer"
   ]
  },
  {
   "cell_type": "code",
   "execution_count": 6,
   "metadata": {},
   "outputs": [
    {
     "name": "stdout",
     "output_type": "stream",
     "text": [
      "AIMessage(content='Leonardo DiCaprio\\'s movies often explore complex themes such as dreams, identity, and morality. For example, in \"Inception,\" he navigates layers of dreams, while in \"Jurassic Park,\" the focus is on the consequences of bringing dinosaurs back to life. His films frequently delve into human psychology and the chaos that ensues from scientific advancements or personal dilemmas.', additional_kwargs={'refusal': None}, response_metadata={'token_usage': {'completion_tokens': 77, 'prompt_tokens': 138, 'total_tokens': 215, 'completion_tokens_details': {'accepted_prediction_tokens': 0, 'audio_tokens': 0, 'reasoning_tokens': 0, 'rejected_prediction_tokens': 0}, 'prompt_tokens_details': {'audio_tokens': 0, 'cached_tokens': 0}}, 'model_name': 'gpt-4o-mini-2024-07-18', 'system_fingerprint': 'fp_bbfba58e46', 'id': 'chatcmpl-BF8h6Cm6YCAge81749INsMMZHaVFw', 'finish_reason': 'stop', 'logprobs': None}, id='run-ed249652-d581-41d8-9007-bcb35d9c76d4-0', usage_metadata={'input_tokens': 138, 'output_tokens': 77, 'total_tokens': 215, 'input_token_details': {'audio': 0, 'cache_read': 0}, 'output_token_details': {'audio': 0, 'reasoning': 0}})\n"
     ]
    }
   ],
   "source": [
    "# Create a model\n",
    "model = ChatOpenAI(model=\"gpt-4o-mini\", temperature=0) \n",
    "\n",
    "# Generate a response\n",
    "questions = model.invoke([SystemMessage(content=system_prompt_fmt),\n",
    "                          HumanMessage(content=question)])\n",
    "\n",
    "pprint.pp(questions)"
   ]
  }
 ],
 "metadata": {
  "kernelspec": {
   "display_name": "Python 3 (ipykernel)",
   "language": "python",
   "name": "python3"
  },
  "language_info": {
   "codemirror_mode": {
    "name": "ipython",
    "version": 3
   },
   "file_extension": ".py",
   "mimetype": "text/x-python",
   "name": "python",
   "nbconvert_exporter": "python",
   "pygments_lexer": "ipython3",
   "version": "3.12.8"
  }
 },
 "nbformat": 4,
 "nbformat_minor": 4
}
